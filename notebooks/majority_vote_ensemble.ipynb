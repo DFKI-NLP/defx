{
 "cells": [
  {
   "cell_type": "code",
   "execution_count": 12,
   "metadata": {},
   "outputs": [],
   "source": [
    "import csv\n",
    "from pathlib import Path\n",
    "from collections import Counter\n",
    "from zipfile import ZipFile"
   ]
  },
  {
   "cell_type": "code",
   "execution_count": 2,
   "metadata": {},
   "outputs": [],
   "source": [
    "!hostname"
   ]
  },
  {
   "cell_type": "code",
   "execution_count": 3,
   "metadata": {},
   "outputs": [],
   "source": [
    "experiment_path = Path('/home/huebner/research/semeval_2020_task_6/search/repeated_joint_bert')\n",
    "split = 'dev'"
   ]
  },
  {
   "cell_type": "code",
   "execution_count": 4,
   "metadata": {},
   "outputs": [
    {
     "name": "stdout",
     "output_type": "stream",
     "text": [
      "total 60\n",
      "-rw-r--r-- 1 huebner deeplee  3071 19. Feb 18:04 config.jsonnet\n",
      "-rw-r--r-- 1 huebner deeplee 45734 20. Feb 03:01 experiment_state-2020-02-19_18-04-30.json\n",
      "-rw-r--r-- 1 huebner deeplee    92 19. Feb 18:04 params.json\n",
      "drwx------ 3 huebner deeplee   123 19. Feb 18:04 run_0_2020-02-19_18-04-307kmx4424\n",
      "drwx------ 3 huebner deeplee   123 19. Feb 18:04 run_1_2020-02-19_18-04-301dga1v3y\n",
      "drwx------ 3 huebner deeplee   151 19. Feb 19:39 run_2_2020-02-19_19-39-06qfxvllgt\n",
      "drwx------ 3 huebner deeplee   151 19. Feb 19:44 run_3_2020-02-19_19-44-16z4sbvupq\n",
      "drwx------ 3 huebner deeplee   123 19. Feb 21:08 run_4_2020-02-19_21-08-55ruo1cxt7\n",
      "drwx------ 3 huebner deeplee   123 19. Feb 22:05 run_5_2020-02-19_22-05-217gb2_2ai\n",
      "drwx------ 3 huebner deeplee   151 19. Feb 22:49 run_6_2020-02-19_22-49-21esr752gm\n",
      "drwx------ 3 huebner deeplee   151 19. Feb 23:49 run_7_2020-02-19_23-49-40vro8xjp4\n",
      "drwx------ 3 huebner deeplee   123 20. Feb 01:00 run_8_2020-02-20_01-00-052aki2vrf\n",
      "drwx------ 3 huebner deeplee   123 20. Feb 01:20 run_9_2020-02-20_01-20-14axirncin\n",
      "-rw-r--r-- 1 huebner deeplee   268 26. Feb 09:03 summary.json\n"
     ]
    }
   ],
   "source": [
    "!ls -l {experiment_path}"
   ]
  },
  {
   "cell_type": "code",
   "execution_count": 5,
   "metadata": {},
   "outputs": [],
   "source": [
    "submission_dir = f'{split}_submission'\n",
    "submission_path = Path(experiment_path, submission_dir)\n",
    "submission_path.mkdir(exist_ok=True)"
   ]
  },
  {
   "cell_type": "code",
   "execution_count": 6,
   "metadata": {},
   "outputs": [],
   "source": [
    "run_paths = list(experiment_path.glob('run_*'))\n",
    "run_0_submission_path = run_paths[0].joinpath('trial', submission_dir)"
   ]
  },
  {
   "cell_type": "code",
   "execution_count": 7,
   "metadata": {},
   "outputs": [
    {
     "name": "stdout",
     "output_type": "stream",
     "text": [
      "total 3928\n",
      "-rw-r--r-- 1 huebner deeplee 2003843 26. Feb 08:53 submission.zip\n",
      "-rw-r--r-- 1 huebner deeplee  252537 26. Feb 08:53 task_2_t1_biology_1_505.deft\n",
      "-rw-r--r-- 1 huebner deeplee  238192 26. Feb 08:53 task_2_t1_biology_2_404.deft\n",
      "-rw-r--r-- 1 huebner deeplee  240595 26. Feb 08:53 task_2_t2_history_1_101.deft\n",
      "-rw-r--r-- 1 huebner deeplee  245501 26. Feb 08:53 task_2_t3_physics_2_101.deft\n",
      "-rw-r--r-- 1 huebner deeplee   77157 26. Feb 08:53 task_2_t5_economic_1_303.deft\n",
      "-rw-r--r-- 1 huebner deeplee  277842 26. Feb 08:53 task_2_t6_sociology_1_0.deft\n",
      "-rw-r--r-- 1 huebner deeplee  330301 26. Feb 08:53 task_2_t7_government_0_101.deft\n",
      "-rw-r--r-- 1 huebner deeplee  340626 26. Feb 08:53 task_2_t7_government_2_101.deft\n"
     ]
    }
   ],
   "source": [
    "!ls -l {run_0_submission_path}"
   ]
  },
  {
   "cell_type": "code",
   "execution_count": 8,
   "metadata": {},
   "outputs": [],
   "source": [
    "prediction_files = [file_path.name for file_path in run_0_submission_path.glob('*.deft')]"
   ]
  },
  {
   "cell_type": "code",
   "execution_count": 9,
   "metadata": {},
   "outputs": [],
   "source": [
    "def merge_prediction(prediction):\n",
    "    if len(prediction[0]) == 0:\n",
    "        merged_prediction = []\n",
    "    else:\n",
    "        static_content = prediction[0][0:4]\n",
    "        labels = [p[4] for p in prediction]\n",
    "        majority_vote_label = Counter(labels).most_common(1)[0][0]\n",
    "        merged_prediction = static_content + [majority_vote_label]\n",
    "    return merged_prediction"
   ]
  },
  {
   "cell_type": "code",
   "execution_count": 11,
   "metadata": {},
   "outputs": [
    {
     "name": "stdout",
     "output_type": "stream",
     "text": [
      "Merging results of task_2_t1_biology_1_505.deft ...\n",
      "Merging results of task_2_t1_biology_2_404.deft ...\n",
      "Merging results of task_2_t2_history_1_101.deft ...\n",
      "Merging results of task_2_t3_physics_2_101.deft ...\n",
      "Merging results of task_2_t5_economic_1_303.deft ...\n",
      "Merging results of task_2_t6_sociology_1_0.deft ...\n",
      "Merging results of task_2_t7_government_0_101.deft ...\n",
      "Merging results of task_2_t7_government_2_101.deft ...\n",
      "Done.\n"
     ]
    }
   ],
   "source": [
    "for prediction_file in prediction_files:\n",
    "    print(f'Merging results of {prediction_file}...')\n",
    "    with submission_path.joinpath(prediction_file).open(mode='w') as out:\n",
    "        file_handlers = []\n",
    "        readers = []\n",
    "        for run_path in run_paths:\n",
    "            prediction_file_path = run_path.joinpath('trial', submission_dir, prediction_file)\n",
    "            file_handler = prediction_file_path.open()\n",
    "            file_handlers.append(file_handler)\n",
    "            reader = csv.reader(file_handler,\n",
    "                                delimiter='\\t',\n",
    "                                quotechar=None,\n",
    "                                quoting=csv.QUOTE_NONE)\n",
    "            readers.append(reader)\n",
    "            \n",
    "        joint_readers = zip(*readers)\n",
    "        writer = csv.writer(out,\n",
    "                            delimiter='\\t',\n",
    "                            quotechar=None,\n",
    "                            quoting=csv.QUOTE_NONE)\n",
    "        \n",
    "        for predictions in joint_readers:\n",
    "            writer.writerow(merge_prediction(predictions))\n",
    "        for f in file_handlers:\n",
    "            f.close()"
   ]
  },
  {
   "cell_type": "code",
   "execution_count": 15,
   "metadata": {},
   "outputs": [],
   "source": [
    "with ZipFile(submission_path.joinpath('submission.zip'), 'w') as zf:\n",
    "    for prediction_file in submission_path.glob('*.deft'):\n",
    "        zf.write(prediction_file, prediction_file.name)"
   ]
  },
  {
   "cell_type": "code",
   "execution_count": null,
   "metadata": {},
   "outputs": [],
   "source": []
  }
 ],
 "metadata": {
  "kernelspec": {
   "display_name": "Python 3",
   "language": "python",
   "name": "python3"
  },
  "language_info": {
   "codemirror_mode": {
    "name": "ipython",
    "version": 3
   },
   "file_extension": ".py",
   "mimetype": "text/x-python",
   "name": "python",
   "nbconvert_exporter": "python",
   "pygments_lexer": "ipython3",
   "version": "3.7.4"
  }
 },
 "nbformat": 4,
 "nbformat_minor": 4
}
