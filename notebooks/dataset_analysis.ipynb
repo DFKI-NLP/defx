{
 "cells": [
  {
   "cell_type": "code",
   "execution_count": 1,
   "metadata": {},
   "outputs": [],
   "source": [
    "import json\n",
    "from collections import defaultdict\n",
    "import itertools\n",
    "from operator import itemgetter\n",
    "\n",
    "import pandas as pd\n",
    "\n",
    "%matplotlib inline"
   ]
  },
  {
   "cell_type": "code",
   "execution_count": 2,
   "metadata": {},
   "outputs": [],
   "source": [
    "train_file = '../data/deft_split/jsonl/train.jsonl'\n",
    "dev_file = '../data/deft_split/jsonl/dev.jsonl'"
   ]
  },
  {
   "cell_type": "code",
   "execution_count": 3,
   "metadata": {},
   "outputs": [],
   "source": [
    "def extract_relations(example):\n",
    "    relation_labels = example['relations']\n",
    "    relation_roots = example['relation_roots']\n",
    "    ner_ids = example['ner_ids']\n",
    "    relations = zip(ner_ids, relation_roots, relation_labels)\n",
    "    relations = filter(lambda x: x[2] != '0' and x[1] != -1, relations)\n",
    "    relations = map(lambda x: (x[0], ner_ids.index(x[0]), x[1], ner_ids.index(x[1]), x[2]), relations)\n",
    "    return set(relations)\n",
    "\n",
    "def is_inter_sentence(spans, relation):\n",
    "    head_idx = relation[3]\n",
    "    tail_idx = relation[1]\n",
    "    head_span = list(filter(lambda s: s[0] <= head_idx < s[1], spans))\n",
    "    tail_span = list(filter(lambda s: s[0] <= tail_idx < s[1], spans))\n",
    "    return head_span != tail_span\n",
    "\n",
    "def get_inter_sentence_relations(spans, relations):\n",
    "    return list(filter(lambda x: is_inter_sentence(spans, x), relations))\n",
    "\n",
    "def extract_relation_schemes(relations, tags):\n",
    "    relation_schemes = []\n",
    "    for relation in relations:\n",
    "        _, tail_offset, _, head_offset, relation_type = relation\n",
    "        tail_type = tags[tail_offset][2:]\n",
    "        head_type = tags[head_offset][2:]\n",
    "        relation_schemes.append((tail_type, relation_type, head_type))\n",
    "    return relation_schemes"
   ]
  },
  {
   "cell_type": "code",
   "execution_count": 4,
   "metadata": {},
   "outputs": [
    {
     "data": {
      "text/plain": [
       "[('Definition', 'Direct-Defines', 'Term'),\n",
       " ('Referential-Term', 'Refers-To', 'Term'),\n",
       " ('Secondary-Definition', 'Supplements', 'Definition')]"
      ]
     },
     "execution_count": 4,
     "metadata": {},
     "output_type": "execute_result"
    }
   ],
   "source": [
    "schemes = None\n",
    "with open(train_file) as f:\n",
    "    for line in f.readlines():\n",
    "        example = json.loads(line)\n",
    "        if example['id'] == 't6_sociology_0_101.deft##12':\n",
    "            relations = extract_relations(example)\n",
    "            schemes = extract_relation_schemes(relations, example['tags'])\n",
    "schemes"
   ]
  },
  {
   "cell_type": "code",
   "execution_count": 5,
   "metadata": {},
   "outputs": [
    {
     "data": {
      "text/plain": [
       "[('T36', 40, 'T34', 12, 'Direct-Defines'),\n",
       " ('T37', 38, 'T34', 12, 'Refers-To'),\n",
       " ('T35', 19, 'T36', 40, 'Supplements')]"
      ]
     },
     "execution_count": 5,
     "metadata": {},
     "output_type": "execute_result"
    }
   ],
   "source": [
    "inter_sents = None\n",
    "with open(train_file) as f:\n",
    "    for line in f.readlines():\n",
    "        example = json.loads(line)\n",
    "        if example['id'] == 't6_sociology_0_101.deft##12':\n",
    "            relations = extract_relations(example)\n",
    "            sentence_spans = list(map(lambda s: (s['start_token_idx'], s['end_token_idx']), example['sentence_labels']))\n",
    "            inter_sents = get_inter_sentence_relations(sentence_spans, relations)\n",
    "            break\n",
    "inter_sents"
   ]
  },
  {
   "cell_type": "code",
   "execution_count": 6,
   "metadata": {},
   "outputs": [],
   "source": [
    "def parse_example(example):\n",
    "    num_relation_types = len(set(example['relations'])) - 1\n",
    "    tags = list(map(lambda x: x[2:] if x != 'O' else x, example['tags']))\n",
    "    entities = set(filter(lambda x: x[1] != 'O', zip(example['ner_ids'], tags)))\n",
    "    entity_types = list(map(itemgetter(1), entities))\n",
    "    has_inter_sentence_relation = False\n",
    "    sentence_labels = example['sentence_labels']\n",
    "    has_def = any(map(lambda s: s['label'] == 'HasDef', sentence_labels))\n",
    "    sentence_spans = list(map(lambda s: (s['start_token_idx'], s['end_token_idx']), sentence_labels))\n",
    "    relations = extract_relations(example)\n",
    "    relation_types = list(map(itemgetter(4), relations))\n",
    "    relation_schemes = extract_relation_schemes(relations, example['tags'])\n",
    "    inter_sentence_relations = get_inter_sentence_relations(sentence_spans, relations)\n",
    "    inter_sentence_relation_types = list(map(lambda r: r[-1], inter_sentence_relations))\n",
    "    return {\n",
    "        'id': example['id'],\n",
    "        'num_sents': len(sentence_labels),\n",
    "        'num_tokens': len(example['tokens']),\n",
    "        'num_entities': len(entities),\n",
    "        'num_relation_types': num_relation_types,\n",
    "        'num_relations': len(relations),\n",
    "        'relation_types': relation_types,\n",
    "        'relation_schemes': relation_schemes,\n",
    "        'entity_types': entity_types,\n",
    "        'has_def': has_def,\n",
    "        'num_inter_sentence_relations': len(inter_sentence_relations),\n",
    "        'inter_sentence_relation_types': inter_sentence_relation_types,\n",
    "        'entities': list(entities),\n",
    "        'relations': list(relations),\n",
    "    }"
   ]
  },
  {
   "cell_type": "code",
   "execution_count": 7,
   "metadata": {},
   "outputs": [],
   "source": [
    "def parse_df(file_name):\n",
    "    rows = []\n",
    "    with open(file_name, 'r') as f:\n",
    "        for line in f.readlines():\n",
    "            rows.append(parse_example(json.loads(line)))\n",
    "    return pd.DataFrame(rows)"
   ]
  },
  {
   "cell_type": "code",
   "execution_count": 8,
   "metadata": {},
   "outputs": [],
   "source": [
    "df = parse_df(train_file)\n",
    "#df.head()"
   ]
  },
  {
   "cell_type": "markdown",
   "metadata": {},
   "source": [
    "## What is the size of the dataset?"
   ]
  },
  {
   "cell_type": "code",
   "execution_count": 9,
   "metadata": {},
   "outputs": [
    {
     "data": {
      "text/plain": [
       "5872"
      ]
     },
     "execution_count": 9,
     "metadata": {},
     "output_type": "execute_result"
    }
   ],
   "source": [
    "len(df)"
   ]
  },
  {
   "cell_type": "code",
   "execution_count": 10,
   "metadata": {},
   "outputs": [
    {
     "data": {
      "text/plain": [
       "count    5872.000000\n",
       "mean        2.542405\n",
       "std         0.570292\n",
       "min         1.000000\n",
       "25%         2.000000\n",
       "50%         3.000000\n",
       "75%         3.000000\n",
       "max         3.000000\n",
       "Name: num_sents, dtype: float64"
      ]
     },
     "execution_count": 10,
     "metadata": {},
     "output_type": "execute_result"
    }
   ],
   "source": [
    "df['num_sents'].describe()"
   ]
  },
  {
   "cell_type": "code",
   "execution_count": 11,
   "metadata": {},
   "outputs": [
    {
     "data": {
      "text/plain": [
       "<matplotlib.axes._subplots.AxesSubplot at 0x7fb977a7bb50>"
      ]
     },
     "execution_count": 11,
     "metadata": {},
     "output_type": "execute_result"
    },
    {
     "data": {
      "image/png": "[encoded data removed]",
      "text/plain": [
       "<Figure size 432x288 with 1 Axes>"
      ]
     },
     "metadata": {
      "needs_background": "light"
     },
     "output_type": "display_data"
    }
   ],
   "source": [
    "df['num_tokens'].plot.hist(bins=30)"
   ]
  },
  {
   "cell_type": "code",
   "execution_count": 12,
   "metadata": {},
   "outputs": [
    {
     "data": {
      "text/plain": [
       "count    5872.000000\n",
       "mean       70.099966\n",
       "std        28.295098\n",
       "min         1.000000\n",
       "25%        51.000000\n",
       "50%        66.000000\n",
       "75%        85.000000\n",
       "max       256.000000\n",
       "Name: num_tokens, dtype: float64"
      ]
     },
     "execution_count": 12,
     "metadata": {},
     "output_type": "execute_result"
    }
   ],
   "source": [
    "df['num_tokens'].describe()"
   ]
  },
  {
   "cell_type": "code",
   "execution_count": 13,
   "metadata": {},
   "outputs": [
    {
     "data": {
      "text/plain": [
       "<matplotlib.axes._subplots.AxesSubplot at 0x7fb97591cb50>"
      ]
     },
     "execution_count": 13,
     "metadata": {},
     "output_type": "execute_result"
    },
    {
     "data": {
      "image/png": "[encoded data removed]",
      "text/plain": [
       "<Figure size 432x288 with 1 Axes>"
      ]
     },
     "metadata": {
      "needs_background": "light"
     },
     "output_type": "display_data"
    }
   ],
   "source": [
    "df['num_entities'].value_counts().sort_index().plot.bar()"
   ]
  },
  {
   "cell_type": "code",
   "execution_count": 14,
   "metadata": {},
   "outputs": [
    {
     "data": {
      "text/plain": [
       "count    5872.000000\n",
       "mean        2.088556\n",
       "std         1.783455\n",
       "min         0.000000\n",
       "25%         0.000000\n",
       "50%         2.000000\n",
       "75%         3.000000\n",
       "max        12.000000\n",
       "Name: num_entities, dtype: float64"
      ]
     },
     "execution_count": 14,
     "metadata": {},
     "output_type": "execute_result"
    }
   ],
   "source": [
    "df['num_entities'].describe()"
   ]
  },
  {
   "cell_type": "code",
   "execution_count": 15,
   "metadata": {},
   "outputs": [
    {
     "data": {
      "text/plain": [
       "<matplotlib.axes._subplots.AxesSubplot at 0x7fb975251dd0>"
      ]
     },
     "execution_count": 15,
     "metadata": {},
     "output_type": "execute_result"
    },
    {
     "data": {
      "image/png": "[encoded data removed]",
      "text/plain": [
       "<Figure size 432x288 with 1 Axes>"
      ]
     },
     "metadata": {
      "needs_background": "light"
     },
     "output_type": "display_data"
    }
   ],
   "source": [
    "df['num_relations'].value_counts().sort_index().plot.bar()"
   ]
  },
  {
   "cell_type": "code",
   "execution_count": 16,
   "metadata": {},
   "outputs": [
    {
     "data": {
      "text/plain": [
       "count    5872.000000\n",
       "mean        1.036274\n",
       "std         0.946650\n",
       "min         0.000000\n",
       "25%         0.000000\n",
       "50%         1.000000\n",
       "75%         2.000000\n",
       "max         7.000000\n",
       "Name: num_relations, dtype: float64"
      ]
     },
     "execution_count": 16,
     "metadata": {},
     "output_type": "execute_result"
    }
   ],
   "source": [
    "df['num_relations'].describe()"
   ]
  },
  {
   "cell_type": "markdown",
   "metadata": {},
   "source": [
    "## How common are the entity types?"
   ]
  },
  {
   "cell_type": "code",
   "execution_count": 17,
   "metadata": {},
   "outputs": [
    {
     "data": {
      "text/plain": [
       "<matplotlib.axes._subplots.AxesSubplot at 0x7fb9751b6a90>"
      ]
     },
     "execution_count": 17,
     "metadata": {},
     "output_type": "execute_result"
    },
    {
     "data": {
      "image/png": "[encoded data removed]",
      "text/plain": [
       "<Figure size 432x288 with 1 Axes>"
      ]
     },
     "metadata": {
      "needs_background": "light"
     },
     "output_type": "display_data"
    }
   ],
   "source": [
    "entity_type_counts = df.query('num_entities > 0')['entity_types'].explode().value_counts()\n",
    "entity_type_counts.plot.bar()"
   ]
  },
  {
   "cell_type": "code",
   "execution_count": 18,
   "metadata": {},
   "outputs": [
    {
     "data": {
      "text/plain": [
       "Term                      5590\n",
       "Definition                5183\n",
       "Alias-Term                 619\n",
       "Secondary-Definition       398\n",
       "Referential-Definition     139\n",
       "Qualifier                  127\n",
       "Referential-Term           119\n",
       "Definition-frag             76\n",
       "Term-frag                    6\n",
       "Ordered-Definition           3\n",
       "Ordered-Term                 3\n",
       "Alias-Term-frag              1\n",
       "Name: entity_types, dtype: int64"
      ]
     },
     "execution_count": 18,
     "metadata": {},
     "output_type": "execute_result"
    }
   ],
   "source": [
    "entity_type_counts"
   ]
  },
  {
   "cell_type": "markdown",
   "metadata": {},
   "source": [
    "## How common are the relation types?"
   ]
  },
  {
   "cell_type": "code",
   "execution_count": 19,
   "metadata": {},
   "outputs": [
    {
     "data": {
      "text/plain": [
       "<matplotlib.axes._subplots.AxesSubplot at 0x7fb9750fc690>"
      ]
     },
     "execution_count": 19,
     "metadata": {},
     "output_type": "execute_result"
    },
    {
     "data": {
      "image/png": "[encoded data removed]",
      "text/plain": [
       "<Figure size 432x288 with 1 Axes>"
      ]
     },
     "metadata": {
      "needs_background": "light"
     },
     "output_type": "display_data"
    }
   ],
   "source": [
    "relation_type_counts = df.query('num_relations > 0')['relation_types'].explode().value_counts()\n",
    "relation_type_counts.plot.bar()"
   ]
  },
  {
   "cell_type": "code",
   "execution_count": 20,
   "metadata": {},
   "outputs": [
    {
     "data": {
      "text/plain": [
       "Direct-Defines      4621\n",
       "AKA                  617\n",
       "Supplements          505\n",
       "Indirect-Defines     213\n",
       "fragment              83\n",
       "Refers-To             46\n",
       "Name: relation_types, dtype: int64"
      ]
     },
     "execution_count": 20,
     "metadata": {},
     "output_type": "execute_result"
    }
   ],
   "source": [
    "relation_type_counts"
   ]
  },
  {
   "cell_type": "markdown",
   "metadata": {},
   "source": [
    "## How many relations span more than a single sentence?"
   ]
  },
  {
   "cell_type": "code",
   "execution_count": 21,
   "metadata": {},
   "outputs": [
    {
     "data": {
      "text/plain": [
       "522"
      ]
     },
     "execution_count": 21,
     "metadata": {},
     "output_type": "execute_result"
    }
   ],
   "source": [
    "total_inter_sentence_relations = df['num_inter_sentence_relations'].sum()\n",
    "total_inter_sentence_relations"
   ]
  },
  {
   "cell_type": "code",
   "execution_count": 22,
   "metadata": {},
   "outputs": [
    {
     "data": {
      "text/plain": [
       "8.578471651602301"
      ]
     },
     "execution_count": 22,
     "metadata": {},
     "output_type": "execute_result"
    }
   ],
   "source": [
    "(total_inter_sentence_relations / df['num_relations'].sum()) * 100"
   ]
  },
  {
   "cell_type": "markdown",
   "metadata": {},
   "source": [
    "## Which relation types span more than a single sentence?"
   ]
  },
  {
   "cell_type": "code",
   "execution_count": 23,
   "metadata": {},
   "outputs": [
    {
     "data": {
      "text/plain": [
       "<matplotlib.axes._subplots.AxesSubplot at 0x7fb977abbe10>"
      ]
     },
     "execution_count": 23,
     "metadata": {},
     "output_type": "execute_result"
    },
    {
     "data": {
      "image/png": "[encoded data removed]",
      "text/plain": [
       "<Figure size 432x288 with 1 Axes>"
      ]
     },
     "metadata": {
      "needs_background": "light"
     },
     "output_type": "display_data"
    }
   ],
   "source": [
    "inter_sentence_relation_type_counts = df.query('num_inter_sentence_relations > 0')['inter_sentence_relation_types'].explode().value_counts()\n",
    "inter_sentence_relation_type_counts.plot.bar()"
   ]
  },
  {
   "cell_type": "code",
   "execution_count": 24,
   "metadata": {},
   "outputs": [
    {
     "data": {
      "text/plain": [
       "Supplements       305\n",
       "Direct-Defines    155\n",
       "Refers-To          40\n",
       "AKA                21\n",
       "fragment            1\n",
       "Name: inter_sentence_relation_types, dtype: int64"
      ]
     },
     "execution_count": 24,
     "metadata": {},
     "output_type": "execute_result"
    }
   ],
   "source": [
    "inter_sentence_relation_type_counts"
   ]
  },
  {
   "cell_type": "markdown",
   "metadata": {},
   "source": [
    "## What are the most common relation signatures?"
   ]
  },
  {
   "cell_type": "code",
   "execution_count": 25,
   "metadata": {},
   "outputs": [
    {
     "data": {
      "text/plain": [
       "<matplotlib.axes._subplots.AxesSubplot at 0x7fb97504e290>"
      ]
     },
     "execution_count": 25,
     "metadata": {},
     "output_type": "execute_result"
    },
    {
     "data": {
      "image/png": "[encoded data removed]",
      "text/plain": [
       "<Figure size 432x288 with 1 Axes>"
      ]
     },
     "metadata": {
      "needs_background": "light"
     },
     "output_type": "display_data"
    }
   ],
   "source": [
    "relation_schema_counts=df.query('num_relations > 0')['relation_schemes'].explode().value_counts()\n",
    "relation_schema_counts.plot.bar()"
   ]
  },
  {
   "cell_type": "code",
   "execution_count": 26,
   "metadata": {},
   "outputs": [
    {
     "data": {
      "text/plain": [
       "(Definition, Direct-Defines, Term)                    4618\n",
       "(Alias-Term, AKA, Term)                                617\n",
       "(Secondary-Definition, Supplements, Definition)        370\n",
       "(Referential-Definition, Indirect-Defines, Term)       120\n",
       "(Definition, Indirect-Defines, Referential-Term)        93\n",
       "(Qualifier, Supplements, Term)                          92\n",
       "(Definition-frag, fragment, Definition)                 76\n",
       "(Qualifier, Supplements, Definition)                    32\n",
       "(Referential-Term, Refers-To, Term)                     27\n",
       "(Referential-Definition, Refers-To, Definition)         17\n",
       "(Secondary-Definition, Supplements, Term)                7\n",
       "(Term-frag, fragment, Term)                              6\n",
       "(Qualifier, Supplements, Alias-Term)                     3\n",
       "(Ordered-Definition, Direct-Defines, Ordered-Term)       3\n",
       "(Referential-Term, Refers-To, Definition)                2\n",
       "(Definition, Supplements, Term)                          1\n",
       "(Alias-Term-frag, fragment, Alias-Term)                  1\n",
       "Name: relation_schemes, dtype: int64"
      ]
     },
     "execution_count": 26,
     "metadata": {},
     "output_type": "execute_result"
    }
   ],
   "source": [
    "relation_schema_counts"
   ]
  },
  {
   "cell_type": "markdown",
   "metadata": {},
   "source": [
    "## Are there any negative examples for the relation extraction?"
   ]
  },
  {
   "cell_type": "code",
   "execution_count": 27,
   "metadata": {},
   "outputs": [],
   "source": [
    "relations = set()\n",
    "relations_to_schemas = defaultdict(list)\n",
    "for schema in relation_schema_counts.index:\n",
    "    relations_to_schemas[schema[1]].append(schema)\n",
    "#relations_to_schemas"
   ]
  },
  {
   "cell_type": "code",
   "execution_count": 28,
   "metadata": {},
   "outputs": [],
   "source": [
    "def count_negatives(schemas, row):\n",
    "    entities = row['entities']\n",
    "    relations = row['relations']\n",
    "    relations = [(r[0], r[2]) for r in relations]\n",
    "    negative_examples = 0\n",
    "    for schema in schemas:\n",
    "        head_type, _, tail_type = schema\n",
    "        potential_heads = [e[0] for e in entities if e[1] == head_type]\n",
    "        potential_tails = [e[0] for e in entities if e[1] == tail_type]\n",
    "        potential_assignments = list(itertools.product(potential_heads, potential_tails))\n",
    "        free_assignments = [pa for pa in potential_assignments if pa not in relations]\n",
    "        negative_examples += len(free_assignments)\n",
    "    return negative_examples"
   ]
  },
  {
   "cell_type": "code",
   "execution_count": 29,
   "metadata": {},
   "outputs": [],
   "source": [
    "relations_to_negatives = defaultdict(int)\n",
    "for relation, schemas in relations_to_schemas.items():\n",
    "    for idx, row in df.iterrows():\n",
    "        relations_to_negatives[relation] += count_negatives(schemas, row)"
   ]
  },
  {
   "cell_type": "code",
   "execution_count": 30,
   "metadata": {},
   "outputs": [
    {
     "data": {
      "text/plain": [
       "defaultdict(int,\n",
       "            {'Direct-Defines': 3791,\n",
       "             'AKA': 368,\n",
       "             'Supplements': 4689,\n",
       "             'Indirect-Defines': 103,\n",
       "             'fragment': 47,\n",
       "             'Refers-To': 386})"
      ]
     },
     "execution_count": 30,
     "metadata": {},
     "output_type": "execute_result"
    }
   ],
   "source": [
    "relations_to_negatives"
   ]
  },
  {
   "cell_type": "markdown",
   "metadata": {},
   "source": [
    "## How good is the created split?"
   ]
  },
  {
   "cell_type": "code",
   "execution_count": 31,
   "metadata": {},
   "outputs": [],
   "source": [
    "train_df = parse_df(train_file)\n",
    "dev_df = parse_df(dev_file)\n",
    "train_df['split'] = 'train'\n",
    "dev_df['split'] = 'dev'\n",
    "split_df = pd.concat([train_df, dev_df])"
   ]
  },
  {
   "cell_type": "code",
   "execution_count": 32,
   "metadata": {},
   "outputs": [
    {
     "data": {
      "text/html": [
       "<div>\n",
       "<style scoped>\n",
       "    .dataframe tbody tr th:only-of-type {\n",
       "        vertical-align: middle;\n",
       "    }\n",
       "\n",
       "    .dataframe tbody tr th {\n",
       "        vertical-align: top;\n",
       "    }\n",
       "\n",
       "    .dataframe thead th {\n",
       "        text-align: right;\n",
       "    }\n",
       "</style>\n",
       "<table border=\"1\" class=\"dataframe\">\n",
       "  <thead>\n",
       "    <tr style=\"text-align: right;\">\n",
       "      <th></th>\n",
       "      <th>split</th>\n",
       "      <th>dev</th>\n",
       "      <th>train</th>\n",
       "    </tr>\n",
       "  </thead>\n",
       "  <tbody>\n",
       "    <tr>\n",
       "      <th rowspan=\"8\" valign=\"top\">num_sents</th>\n",
       "      <th>count</th>\n",
       "      <td>711.000000</td>\n",
       "      <td>5872.000000</td>\n",
       "    </tr>\n",
       "    <tr>\n",
       "      <th>mean</th>\n",
       "      <td>2.545710</td>\n",
       "      <td>2.542405</td>\n",
       "    </tr>\n",
       "    <tr>\n",
       "      <th>std</th>\n",
       "      <td>0.571955</td>\n",
       "      <td>0.570292</td>\n",
       "    </tr>\n",
       "    <tr>\n",
       "      <th>min</th>\n",
       "      <td>1.000000</td>\n",
       "      <td>1.000000</td>\n",
       "    </tr>\n",
       "    <tr>\n",
       "      <th>25%</th>\n",
       "      <td>2.000000</td>\n",
       "      <td>2.000000</td>\n",
       "    </tr>\n",
       "    <tr>\n",
       "      <th>50%</th>\n",
       "      <td>3.000000</td>\n",
       "      <td>3.000000</td>\n",
       "    </tr>\n",
       "    <tr>\n",
       "      <th>75%</th>\n",
       "      <td>3.000000</td>\n",
       "      <td>3.000000</td>\n",
       "    </tr>\n",
       "    <tr>\n",
       "      <th>max</th>\n",
       "      <td>3.000000</td>\n",
       "      <td>3.000000</td>\n",
       "    </tr>\n",
       "    <tr>\n",
       "      <th rowspan=\"8\" valign=\"top\">num_tokens</th>\n",
       "      <th>count</th>\n",
       "      <td>711.000000</td>\n",
       "      <td>5872.000000</td>\n",
       "    </tr>\n",
       "    <tr>\n",
       "      <th>mean</th>\n",
       "      <td>64.236287</td>\n",
       "      <td>70.099966</td>\n",
       "    </tr>\n",
       "    <tr>\n",
       "      <th>std</th>\n",
       "      <td>24.503070</td>\n",
       "      <td>28.295098</td>\n",
       "    </tr>\n",
       "    <tr>\n",
       "      <th>min</th>\n",
       "      <td>3.000000</td>\n",
       "      <td>1.000000</td>\n",
       "    </tr>\n",
       "    <tr>\n",
       "      <th>25%</th>\n",
       "      <td>47.500000</td>\n",
       "      <td>51.000000</td>\n",
       "    </tr>\n",
       "    <tr>\n",
       "      <th>50%</th>\n",
       "      <td>61.000000</td>\n",
       "      <td>66.000000</td>\n",
       "    </tr>\n",
       "    <tr>\n",
       "      <th>75%</th>\n",
       "      <td>78.000000</td>\n",
       "      <td>85.000000</td>\n",
       "    </tr>\n",
       "    <tr>\n",
       "      <th>max</th>\n",
       "      <td>158.000000</td>\n",
       "      <td>256.000000</td>\n",
       "    </tr>\n",
       "    <tr>\n",
       "      <th rowspan=\"8\" valign=\"top\">num_entities</th>\n",
       "      <th>count</th>\n",
       "      <td>711.000000</td>\n",
       "      <td>5872.000000</td>\n",
       "    </tr>\n",
       "    <tr>\n",
       "      <th>mean</th>\n",
       "      <td>2.170183</td>\n",
       "      <td>2.088556</td>\n",
       "    </tr>\n",
       "    <tr>\n",
       "      <th>std</th>\n",
       "      <td>1.809368</td>\n",
       "      <td>1.783455</td>\n",
       "    </tr>\n",
       "    <tr>\n",
       "      <th>min</th>\n",
       "      <td>0.000000</td>\n",
       "      <td>0.000000</td>\n",
       "    </tr>\n",
       "    <tr>\n",
       "      <th>25%</th>\n",
       "      <td>0.000000</td>\n",
       "      <td>0.000000</td>\n",
       "    </tr>\n",
       "    <tr>\n",
       "      <th>50%</th>\n",
       "      <td>2.000000</td>\n",
       "      <td>2.000000</td>\n",
       "    </tr>\n",
       "    <tr>\n",
       "      <th>75%</th>\n",
       "      <td>3.000000</td>\n",
       "      <td>3.000000</td>\n",
       "    </tr>\n",
       "    <tr>\n",
       "      <th>max</th>\n",
       "      <td>9.000000</td>\n",
       "      <td>12.000000</td>\n",
       "    </tr>\n",
       "    <tr>\n",
       "      <th rowspan=\"8\" valign=\"top\">num_relations</th>\n",
       "      <th>count</th>\n",
       "      <td>711.000000</td>\n",
       "      <td>5872.000000</td>\n",
       "    </tr>\n",
       "    <tr>\n",
       "      <th>mean</th>\n",
       "      <td>1.059072</td>\n",
       "      <td>1.036274</td>\n",
       "    </tr>\n",
       "    <tr>\n",
       "      <th>std</th>\n",
       "      <td>0.911213</td>\n",
       "      <td>0.946650</td>\n",
       "    </tr>\n",
       "    <tr>\n",
       "      <th>min</th>\n",
       "      <td>0.000000</td>\n",
       "      <td>0.000000</td>\n",
       "    </tr>\n",
       "    <tr>\n",
       "      <th>25%</th>\n",
       "      <td>0.000000</td>\n",
       "      <td>0.000000</td>\n",
       "    </tr>\n",
       "    <tr>\n",
       "      <th>50%</th>\n",
       "      <td>1.000000</td>\n",
       "      <td>1.000000</td>\n",
       "    </tr>\n",
       "    <tr>\n",
       "      <th>75%</th>\n",
       "      <td>2.000000</td>\n",
       "      <td>2.000000</td>\n",
       "    </tr>\n",
       "    <tr>\n",
       "      <th>max</th>\n",
       "      <td>4.000000</td>\n",
       "      <td>7.000000</td>\n",
       "    </tr>\n",
       "    <tr>\n",
       "      <th rowspan=\"8\" valign=\"top\">num_inter_sentence_relations</th>\n",
       "      <th>count</th>\n",
       "      <td>711.000000</td>\n",
       "      <td>5872.000000</td>\n",
       "    </tr>\n",
       "    <tr>\n",
       "      <th>mean</th>\n",
       "      <td>0.092827</td>\n",
       "      <td>0.088896</td>\n",
       "    </tr>\n",
       "    <tr>\n",
       "      <th>std</th>\n",
       "      <td>0.335407</td>\n",
       "      <td>0.304286</td>\n",
       "    </tr>\n",
       "    <tr>\n",
       "      <th>min</th>\n",
       "      <td>0.000000</td>\n",
       "      <td>0.000000</td>\n",
       "    </tr>\n",
       "    <tr>\n",
       "      <th>25%</th>\n",
       "      <td>0.000000</td>\n",
       "      <td>0.000000</td>\n",
       "    </tr>\n",
       "    <tr>\n",
       "      <th>50%</th>\n",
       "      <td>0.000000</td>\n",
       "      <td>0.000000</td>\n",
       "    </tr>\n",
       "    <tr>\n",
       "      <th>75%</th>\n",
       "      <td>0.000000</td>\n",
       "      <td>0.000000</td>\n",
       "    </tr>\n",
       "    <tr>\n",
       "      <th>max</th>\n",
       "      <td>4.000000</td>\n",
       "      <td>3.000000</td>\n",
       "    </tr>\n",
       "  </tbody>\n",
       "</table>\n",
       "</div>"
      ],
      "text/plain": [
       "split                                      dev        train\n",
       "num_sents                    count  711.000000  5872.000000\n",
       "                             mean     2.545710     2.542405\n",
       "                             std      0.571955     0.570292\n",
       "                             min      1.000000     1.000000\n",
       "                             25%      2.000000     2.000000\n",
       "                             50%      3.000000     3.000000\n",
       "                             75%      3.000000     3.000000\n",
       "                             max      3.000000     3.000000\n",
       "num_tokens                   count  711.000000  5872.000000\n",
       "                             mean    64.236287    70.099966\n",
       "                             std     24.503070    28.295098\n",
       "                             min      3.000000     1.000000\n",
       "                             25%     47.500000    51.000000\n",
       "                             50%     61.000000    66.000000\n",
       "                             75%     78.000000    85.000000\n",
       "                             max    158.000000   256.000000\n",
       "num_entities                 count  711.000000  5872.000000\n",
       "                             mean     2.170183     2.088556\n",
       "                             std      1.809368     1.783455\n",
       "                             min      0.000000     0.000000\n",
       "                             25%      0.000000     0.000000\n",
       "                             50%      2.000000     2.000000\n",
       "                             75%      3.000000     3.000000\n",
       "                             max      9.000000    12.000000\n",
       "num_relations                count  711.000000  5872.000000\n",
       "                             mean     1.059072     1.036274\n",
       "                             std      0.911213     0.946650\n",
       "                             min      0.000000     0.000000\n",
       "                             25%      0.000000     0.000000\n",
       "                             50%      1.000000     1.000000\n",
       "                             75%      2.000000     2.000000\n",
       "                             max      4.000000     7.000000\n",
       "num_inter_sentence_relations count  711.000000  5872.000000\n",
       "                             mean     0.092827     0.088896\n",
       "                             std      0.335407     0.304286\n",
       "                             min      0.000000     0.000000\n",
       "                             25%      0.000000     0.000000\n",
       "                             50%      0.000000     0.000000\n",
       "                             75%      0.000000     0.000000\n",
       "                             max      4.000000     3.000000"
      ]
     },
     "execution_count": 32,
     "metadata": {},
     "output_type": "execute_result"
    }
   ],
   "source": [
    "split_df[['split',\n",
    "          'num_sents',\n",
    "          'num_tokens',\n",
    "          'num_entities',\n",
    "          'num_relations',\n",
    "          'num_inter_sentence_relations']].groupby('split').describe().transpose()"
   ]
  },
  {
   "cell_type": "code",
   "execution_count": 33,
   "metadata": {},
   "outputs": [
    {
     "data": {
      "text/plain": [
       "<matplotlib.axes._subplots.AxesSubplot at 0x7fb9745734d0>"
      ]
     },
     "execution_count": 33,
     "metadata": {},
     "output_type": "execute_result"
    },
    {
     "data": {
      "image/png": "[encoded data removed]",
      "text/plain": [
       "<Figure size 432x288 with 1 Axes>"
      ]
     },
     "metadata": {
      "needs_background": "light"
     },
     "output_type": "display_data"
    }
   ],
   "source": [
    "relation_types_by_split = split_df.query('num_relations > 0')[['split', 'relation_types', 'id']].explode('relation_types').groupby(['split', 'relation_types']).count()\n",
    "relation_types_by_split = relation_types_by_split.unstack(level=0)\n",
    "relation_types_by_split = relation_types_by_split/relation_types_by_split.sum()\n",
    "relation_types_by_split.plot.bar()"
   ]
  },
  {
   "cell_type": "code",
   "execution_count": 34,
   "metadata": {},
   "outputs": [
    {
     "data": {
      "text/html": [
       "<div>\n",
       "<style scoped>\n",
       "    .dataframe tbody tr th:only-of-type {\n",
       "        vertical-align: middle;\n",
       "    }\n",
       "\n",
       "    .dataframe tbody tr th {\n",
       "        vertical-align: top;\n",
       "    }\n",
       "\n",
       "    .dataframe thead tr th {\n",
       "        text-align: left;\n",
       "    }\n",
       "\n",
       "    .dataframe thead tr:last-of-type th {\n",
       "        text-align: right;\n",
       "    }\n",
       "</style>\n",
       "<table border=\"1\" class=\"dataframe\">\n",
       "  <thead>\n",
       "    <tr>\n",
       "      <th></th>\n",
       "      <th colspan=\"2\" halign=\"left\">id</th>\n",
       "    </tr>\n",
       "    <tr>\n",
       "      <th>split</th>\n",
       "      <th>dev</th>\n",
       "      <th>train</th>\n",
       "    </tr>\n",
       "    <tr>\n",
       "      <th>relation_types</th>\n",
       "      <th></th>\n",
       "      <th></th>\n",
       "    </tr>\n",
       "  </thead>\n",
       "  <tbody>\n",
       "    <tr>\n",
       "      <th>AKA</th>\n",
       "      <td>0.086220</td>\n",
       "      <td>0.100256</td>\n",
       "    </tr>\n",
       "    <tr>\n",
       "      <th>Direct-Defines</th>\n",
       "      <td>0.769053</td>\n",
       "      <td>0.760500</td>\n",
       "    </tr>\n",
       "    <tr>\n",
       "      <th>Indirect-Defines</th>\n",
       "      <td>0.040031</td>\n",
       "      <td>0.035075</td>\n",
       "    </tr>\n",
       "    <tr>\n",
       "      <th>Refers-To</th>\n",
       "      <td>0.004619</td>\n",
       "      <td>0.007527</td>\n",
       "    </tr>\n",
       "    <tr>\n",
       "      <th>Supplements</th>\n",
       "      <td>0.090069</td>\n",
       "      <td>0.083095</td>\n",
       "    </tr>\n",
       "    <tr>\n",
       "      <th>fragment</th>\n",
       "      <td>0.010008</td>\n",
       "      <td>0.013548</td>\n",
       "    </tr>\n",
       "  </tbody>\n",
       "</table>\n",
       "</div>"
      ],
      "text/plain": [
       "                        id          \n",
       "split                  dev     train\n",
       "relation_types                      \n",
       "AKA               0.086220  0.100256\n",
       "Direct-Defines    0.769053  0.760500\n",
       "Indirect-Defines  0.040031  0.035075\n",
       "Refers-To         0.004619  0.007527\n",
       "Supplements       0.090069  0.083095\n",
       "fragment          0.010008  0.013548"
      ]
     },
     "execution_count": 34,
     "metadata": {},
     "output_type": "execute_result"
    }
   ],
   "source": [
    "relation_types_by_split"
   ]
  },
  {
   "cell_type": "code",
   "execution_count": null,
   "metadata": {},
   "outputs": [],
   "source": []
  }
 ],
 "metadata": {
  "kernelspec": {
   "display_name": "Python 3",
   "language": "python",
   "name": "python3"
  },
  "language_info": {
   "codemirror_mode": {
    "name": "ipython",
    "version": 3
   },
   "file_extension": ".py",
   "mimetype": "text/x-python",
   "name": "python",
   "nbconvert_exporter": "python",
   "pygments_lexer": "ipython3",
   "version": "3.7.4"
  }
 },
 "nbformat": 4,
 "nbformat_minor": 4
}
