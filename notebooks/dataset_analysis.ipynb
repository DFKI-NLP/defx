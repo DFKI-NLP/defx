{
 "cells": [
  {
   "cell_type": "code",
   "execution_count": 172,
   "metadata": {},
   "outputs": [],
   "source": [
    "import json\n",
    "from collections import defaultdict\n",
    "import itertools\n",
    "from operator import itemgetter\n",
    "\n",
    "import pandas as pd\n",
    "\n",
    "%matplotlib inline"
   ]
  },
  {
   "cell_type": "code",
   "execution_count": 175,
   "metadata": {},
   "outputs": [],
   "source": [
    "train_file = '../data/deft_split/jsonl/train.jsonl'\n",
    "dev_file = '../data/deft_split/jsonl/dev.jsonl'\n",
    "test_file = '../data/deft_split/jsonl/test.jsonl'"
   ]
  },
  {
   "cell_type": "code",
   "execution_count": 176,
   "metadata": {},
   "outputs": [],
   "source": [
    "def extract_relations(example):\n",
    "    relation_labels = example['relations']\n",
    "    relation_roots = example['relation_roots']\n",
    "    ner_ids = example['ner_ids']\n",
    "    relations = zip(ner_ids, relation_roots, relation_labels)\n",
    "    relations = filter(lambda x: x[2] != '0' and x[1] != -1, relations)\n",
    "    relations = map(lambda x: (x[0], ner_ids.index(x[0]), x[1], ner_ids.index(x[1]), x[2]), relations)\n",
    "    return set(relations)\n",
    "\n",
    "def is_inter_sentence(spans, relation):\n",
    "    head_idx = relation[3]\n",
    "    tail_idx = relation[1]\n",
    "    head_span = list(filter(lambda s: s[0] <= head_idx < s[1], spans))\n",
    "    tail_span = list(filter(lambda s: s[0] <= tail_idx < s[1], spans))\n",
    "    return head_span != tail_span\n",
    "\n",
    "def get_inter_sentence_relations(spans, relations):\n",
    "    return list(filter(lambda x: is_inter_sentence(spans, x), relations))\n",
    "\n",
    "def extract_relation_schemes(relations, tags):\n",
    "    relation_schemes = []\n",
    "    for relation in relations:\n",
    "        _, tail_offset, _, head_offset, relation_type = relation\n",
    "        tail_type = tags[tail_offset][2:]\n",
    "        head_type = tags[head_offset][2:]\n",
    "        relation_schemes.append((tail_type, relation_type, head_type))\n",
    "    return relation_schemes"
   ]
  },
  {
   "cell_type": "code",
   "execution_count": 177,
   "metadata": {},
   "outputs": [
    {
     "data": {
      "text/plain": [
       "[('Definition', 'Direct-Defines', 'Term')]"
      ]
     },
     "execution_count": 177,
     "metadata": {},
     "output_type": "execute_result"
    }
   ],
   "source": [
    "schemes = None\n",
    "with open(train_file) as f:\n",
    "    for line in f.readlines():\n",
    "        example = json.loads(line)\n",
    "        if example['id'] == 't6_sociology_0_101.deft##12':\n",
    "            relations = extract_relations(example)\n",
    "            schemes = extract_relation_schemes(relations, example['tags'])\n",
    "schemes"
   ]
  },
  {
   "cell_type": "code",
   "execution_count": 178,
   "metadata": {},
   "outputs": [
    {
     "data": {
      "text/plain": [
       "[]"
      ]
     },
     "execution_count": 178,
     "metadata": {},
     "output_type": "execute_result"
    }
   ],
   "source": [
    "inter_sents = None\n",
    "with open(train_file) as f:\n",
    "    for line in f.readlines():\n",
    "        example = json.loads(line)\n",
    "        if example['id'] == 't6_sociology_0_101.deft##12':\n",
    "            relations = extract_relations(example)\n",
    "            sentence_spans = list(map(lambda s: (s['start_token_idx'], s['end_token_idx']), example['sentence_labels']))\n",
    "            inter_sents = get_inter_sentence_relations(sentence_spans, relations)\n",
    "            break\n",
    "inter_sents"
   ]
  },
  {
   "cell_type": "code",
   "execution_count": 7,
   "metadata": {},
   "outputs": [],
   "source": [
    "def parse_example(example):\n",
    "    num_relation_types = len(set(example['relations'])) - 1\n",
    "    tags = list(map(lambda x: x[2:] if x != 'O' else x, example['tags']))\n",
    "    entities = set(filter(lambda x: x[1] != 'O', zip(example['ner_ids'], tags)))\n",
    "    entity_types = list(map(itemgetter(1), entities))\n",
    "    has_inter_sentence_relation = False\n",
    "    sentence_labels = example['sentence_labels']\n",
    "    has_def = any(map(lambda s: s['label'] == 'HasDef', sentence_labels))\n",
    "    sentence_spans = list(map(lambda s: (s['start_token_idx'], s['end_token_idx']), sentence_labels))\n",
    "    relations = extract_relations(example)\n",
    "    relation_types = list(map(itemgetter(4), relations))\n",
    "    relation_schemes = extract_relation_schemes(relations, example['tags'])\n",
    "    inter_sentence_relations = get_inter_sentence_relations(sentence_spans, relations)\n",
    "    inter_sentence_relation_types = list(map(lambda r: r[-1], inter_sentence_relations))\n",
    "    return {\n",
    "        'id': example['id'],\n",
    "        'num_sents': len(sentence_labels),\n",
    "        'num_tokens': len(example['tokens']),\n",
    "        'num_entities': len(entities),\n",
    "        'num_relation_types': num_relation_types,\n",
    "        'num_relations': len(relations),\n",
    "        'relation_types': relation_types,\n",
    "        'relation_schemes': relation_schemes,\n",
    "        'entity_types': entity_types,\n",
    "        'has_def': has_def,\n",
    "        'num_inter_sentence_relations': len(inter_sentence_relations),\n",
    "        'inter_sentence_relation_types': inter_sentence_relation_types,\n",
    "        'entities': list(entities),\n",
    "        'relations': list(relations),\n",
    "    }"
   ]
  },
  {
   "cell_type": "code",
   "execution_count": 8,
   "metadata": {},
   "outputs": [],
   "source": [
    "def parse_df(file_name):\n",
    "    rows = []\n",
    "    with open(file_name, 'r') as f:\n",
    "        for line in f.readlines():\n",
    "            rows.append(parse_example(json.loads(line)))\n",
    "    return pd.DataFrame(rows)"
   ]
  },
  {
   "cell_type": "code",
   "execution_count": 9,
   "metadata": {},
   "outputs": [],
   "source": [
    "df = parse_df(train_file)\n",
    "#df.head()"
   ]
  },
  {
   "cell_type": "markdown",
   "metadata": {},
   "source": [
    "## What is the size of the dataset?"
   ]
  },
  {
   "cell_type": "code",
   "execution_count": 11,
   "metadata": {},
   "outputs": [
    {
     "data": {
      "text/plain": [
       "6261"
      ]
     },
     "execution_count": 11,
     "metadata": {},
     "output_type": "execute_result"
    }
   ],
   "source": [
    "len(df)"
   ]
  },
  {
   "cell_type": "code",
   "execution_count": 12,
   "metadata": {},
   "outputs": [
    {
     "data": {
      "text/plain": [
       "count    6261.000000\n",
       "mean        2.497205\n",
       "std         0.631343\n",
       "min         1.000000\n",
       "25%         2.000000\n",
       "50%         3.000000\n",
       "75%         3.000000\n",
       "max         3.000000\n",
       "Name: num_sents, dtype: float64"
      ]
     },
     "execution_count": 12,
     "metadata": {},
     "output_type": "execute_result"
    }
   ],
   "source": [
    "df['num_sents'].describe()"
   ]
  },
  {
   "cell_type": "code",
   "execution_count": 13,
   "metadata": {},
   "outputs": [
    {
     "data": {
      "text/plain": [
       "<matplotlib.axes._subplots.AxesSubplot at 0x7fdf93f16510>"
      ]
     },
     "execution_count": 13,
     "metadata": {},
     "output_type": "execute_result"
    },
    {
     "data": {
      "image/png": "[encoded data removed]",
      "text/plain": [
       "<Figure size 432x288 with 1 Axes>"
      ]
     },
     "metadata": {
      "needs_background": "light"
     },
     "output_type": "display_data"
    }
   ],
   "source": [
    "df['num_tokens'].plot.hist(bins=30)"
   ]
  },
  {
   "cell_type": "code",
   "execution_count": 14,
   "metadata": {},
   "outputs": [
    {
     "data": {
      "text/plain": [
       "count    6261.000000\n",
       "mean       65.831497\n",
       "std        26.664000\n",
       "min         1.000000\n",
       "25%        48.000000\n",
       "50%        63.000000\n",
       "75%        82.000000\n",
       "max       210.000000\n",
       "Name: num_tokens, dtype: float64"
      ]
     },
     "execution_count": 14,
     "metadata": {},
     "output_type": "execute_result"
    }
   ],
   "source": [
    "df['num_tokens'].describe()"
   ]
  },
  {
   "cell_type": "code",
   "execution_count": 15,
   "metadata": {},
   "outputs": [
    {
     "data": {
      "text/plain": [
       "<matplotlib.axes._subplots.AxesSubplot at 0x7fdf9141aa90>"
      ]
     },
     "execution_count": 15,
     "metadata": {},
     "output_type": "execute_result"
    },
    {
     "data": {
      "image/png": "[encoded data removed]",
      "text/plain": [
       "<Figure size 432x288 with 1 Axes>"
      ]
     },
     "metadata": {
      "needs_background": "light"
     },
     "output_type": "display_data"
    }
   ],
   "source": [
    "df['num_entities'].value_counts().sort_index().plot.bar()"
   ]
  },
  {
   "cell_type": "code",
   "execution_count": 16,
   "metadata": {},
   "outputs": [
    {
     "data": {
      "text/plain": [
       "count    6261.000000\n",
       "mean        1.982750\n",
       "std         1.766214\n",
       "min         0.000000\n",
       "25%         0.000000\n",
       "50%         2.000000\n",
       "75%         3.000000\n",
       "max        12.000000\n",
       "Name: num_entities, dtype: float64"
      ]
     },
     "execution_count": 16,
     "metadata": {},
     "output_type": "execute_result"
    }
   ],
   "source": [
    "df['num_entities'].describe()"
   ]
  },
  {
   "cell_type": "code",
   "execution_count": 17,
   "metadata": {},
   "outputs": [
    {
     "data": {
      "text/plain": [
       "<matplotlib.axes._subplots.AxesSubplot at 0x7fdf90f58150>"
      ]
     },
     "execution_count": 17,
     "metadata": {},
     "output_type": "execute_result"
    },
    {
     "data": {
      "image/png": "[encoded data removed]",
      "text/plain": [
       "<Figure size 432x288 with 1 Axes>"
      ]
     },
     "metadata": {
      "needs_background": "light"
     },
     "output_type": "display_data"
    }
   ],
   "source": [
    "df['num_relations'].value_counts().sort_index().plot.bar()"
   ]
  },
  {
   "cell_type": "code",
   "execution_count": 18,
   "metadata": {},
   "outputs": [
    {
     "data": {
      "text/plain": [
       "count    6261.000000\n",
       "mean        1.047596\n",
       "std         0.996465\n",
       "min         0.000000\n",
       "25%         0.000000\n",
       "50%         1.000000\n",
       "75%         2.000000\n",
       "max         7.000000\n",
       "Name: num_relations, dtype: float64"
      ]
     },
     "execution_count": 18,
     "metadata": {},
     "output_type": "execute_result"
    }
   ],
   "source": [
    "df['num_relations'].describe()"
   ]
  },
  {
   "cell_type": "markdown",
   "metadata": {},
   "source": [
    "## How common are the entity types?"
   ]
  },
  {
   "cell_type": "code",
   "execution_count": 19,
   "metadata": {},
   "outputs": [
    {
     "data": {
      "text/plain": [
       "<matplotlib.axes._subplots.AxesSubplot at 0x7fdf9141ad50>"
      ]
     },
     "execution_count": 19,
     "metadata": {},
     "output_type": "execute_result"
    },
    {
     "data": {
      "image/png": "[encoded data removed]",
      "text/plain": [
       "<Figure size 432x288 with 1 Axes>"
      ]
     },
     "metadata": {
      "needs_background": "light"
     },
     "output_type": "display_data"
    }
   ],
   "source": [
    "entity_type_counts = df.query('num_entities > 0')['entity_types'].explode().value_counts()\n",
    "entity_type_counts.plot.bar()"
   ]
  },
  {
   "cell_type": "code",
   "execution_count": 20,
   "metadata": {},
   "outputs": [
    {
     "data": {
      "text/plain": [
       "Term                      5651\n",
       "Definition                5280\n",
       "Alias-Term                 589\n",
       "Secondary-Definition       406\n",
       "Referential-Definition     139\n",
       "Qualifier                  135\n",
       "Referential-Term           119\n",
       "Definition-frag             76\n",
       "Term-frag                    7\n",
       "Ordered-Term                 5\n",
       "Ordered-Definition           5\n",
       "Alias-Term-frag              2\n",
       "Name: entity_types, dtype: int64"
      ]
     },
     "execution_count": 20,
     "metadata": {},
     "output_type": "execute_result"
    }
   ],
   "source": [
    "entity_type_counts"
   ]
  },
  {
   "cell_type": "markdown",
   "metadata": {},
   "source": [
    "## How common are the relation types?"
   ]
  },
  {
   "cell_type": "code",
   "execution_count": 21,
   "metadata": {},
   "outputs": [
    {
     "data": {
      "text/plain": [
       "<matplotlib.axes._subplots.AxesSubplot at 0x7fdf90e07fd0>"
      ]
     },
     "execution_count": 21,
     "metadata": {},
     "output_type": "execute_result"
    },
    {
     "data": {
      "image/png": "[encoded data removed]",
      "text/plain": [
       "<Figure size 432x288 with 1 Axes>"
      ]
     },
     "metadata": {
      "needs_background": "light"
     },
     "output_type": "display_data"
    }
   ],
   "source": [
    "relation_type_counts = df.query('num_relations > 0')['relation_types'].explode().value_counts()\n",
    "relation_type_counts.plot.bar()"
   ]
  },
  {
   "cell_type": "code",
   "execution_count": 22,
   "metadata": {},
   "outputs": [
    {
     "data": {
      "text/plain": [
       "Direct-Defines      5035\n",
       "AKA                  584\n",
       "Supplements          511\n",
       "Indirect-Defines     215\n",
       "Refers-To            130\n",
       "fragment              84\n",
       "Name: relation_types, dtype: int64"
      ]
     },
     "execution_count": 22,
     "metadata": {},
     "output_type": "execute_result"
    }
   ],
   "source": [
    "relation_type_counts"
   ]
  },
  {
   "cell_type": "markdown",
   "metadata": {},
   "source": [
    "## How many relations span more than a single sentence?"
   ]
  },
  {
   "cell_type": "code",
   "execution_count": 23,
   "metadata": {},
   "outputs": [
    {
     "data": {
      "text/plain": [
       "622"
      ]
     },
     "execution_count": 23,
     "metadata": {},
     "output_type": "execute_result"
    }
   ],
   "source": [
    "total_inter_sentence_relations = df['num_inter_sentence_relations'].sum()\n",
    "total_inter_sentence_relations"
   ]
  },
  {
   "cell_type": "code",
   "execution_count": 24,
   "metadata": {},
   "outputs": [
    {
     "data": {
      "text/plain": [
       "9.483152919652387"
      ]
     },
     "execution_count": 24,
     "metadata": {},
     "output_type": "execute_result"
    }
   ],
   "source": [
    "(total_inter_sentence_relations / df['num_relations'].sum()) * 100"
   ]
  },
  {
   "cell_type": "markdown",
   "metadata": {},
   "source": [
    "## Which relation types span more than a single sentence?"
   ]
  },
  {
   "cell_type": "code",
   "execution_count": 25,
   "metadata": {},
   "outputs": [
    {
     "data": {
      "text/plain": [
       "<matplotlib.axes._subplots.AxesSubplot at 0x7fdf90d88d10>"
      ]
     },
     "execution_count": 25,
     "metadata": {},
     "output_type": "execute_result"
    },
    {
     "data": {
      "image/png": "[encoded data removed]",
      "text/plain": [
       "<Figure size 432x288 with 1 Axes>"
      ]
     },
     "metadata": {
      "needs_background": "light"
     },
     "output_type": "display_data"
    }
   ],
   "source": [
    "inter_sentence_relation_type_counts = df.query('num_inter_sentence_relations > 0')['inter_sentence_relation_types'].explode().value_counts()\n",
    "inter_sentence_relation_type_counts.plot.bar()"
   ]
  },
  {
   "cell_type": "code",
   "execution_count": 26,
   "metadata": {},
   "outputs": [
    {
     "data": {
      "text/plain": [
       "Supplements       307\n",
       "Direct-Defines    172\n",
       "Refers-To         119\n",
       "AKA                24\n",
       "Name: inter_sentence_relation_types, dtype: int64"
      ]
     },
     "execution_count": 26,
     "metadata": {},
     "output_type": "execute_result"
    }
   ],
   "source": [
    "inter_sentence_relation_type_counts"
   ]
  },
  {
   "cell_type": "markdown",
   "metadata": {},
   "source": [
    "## What are the most common relation signatures?"
   ]
  },
  {
   "cell_type": "code",
   "execution_count": 27,
   "metadata": {},
   "outputs": [
    {
     "data": {
      "text/plain": [
       "<matplotlib.axes._subplots.AxesSubplot at 0x7fdf90d7e210>"
      ]
     },
     "execution_count": 27,
     "metadata": {},
     "output_type": "execute_result"
    },
    {
     "data": {
      "image/png": "[encoded data removed]",
      "text/plain": [
       "<Figure size 432x288 with 1 Axes>"
      ]
     },
     "metadata": {
      "needs_background": "light"
     },
     "output_type": "display_data"
    }
   ],
   "source": [
    "relation_schema_counts=df.query('num_relations > 0')['relation_schemes'].explode().value_counts()\n",
    "relation_schema_counts.plot.bar()"
   ]
  },
  {
   "cell_type": "code",
   "execution_count": 28,
   "metadata": {},
   "outputs": [
    {
     "data": {
      "text/plain": [
       "(Definition, Direct-Defines, Term)                    5030\n",
       "(Alias-Term, AKA, Term)                                584\n",
       "(Secondary-Definition, Supplements, Definition)        367\n",
       "(Referential-Definition, Indirect-Defines, Term)       123\n",
       "(Referential-Term, Refers-To, Term)                    113\n",
       "(Qualifier, Supplements, Term)                          93\n",
       "(Definition, Indirect-Defines, Referential-Term)        92\n",
       "(Definition-frag, fragment, Definition)                 75\n",
       "(Qualifier, Supplements, Definition)                    39\n",
       "(Referential-Definition, Refers-To, Definition)         15\n",
       "(Secondary-Definition, Supplements, Term)                8\n",
       "(Term-frag, fragment, Term)                              7\n",
       "(Ordered-Definition, Direct-Defines, Ordered-Term)       5\n",
       "(Qualifier, Supplements, Alias-Term)                     3\n",
       "(Referential-Term, Refers-To, Definition)                2\n",
       "(Alias-Term-frag, fragment, Alias-Term)                  2\n",
       "(Definition, Supplements, Term)                          1\n",
       "Name: relation_schemes, dtype: int64"
      ]
     },
     "execution_count": 28,
     "metadata": {},
     "output_type": "execute_result"
    }
   ],
   "source": [
    "relation_schema_counts"
   ]
  },
  {
   "cell_type": "markdown",
   "metadata": {},
   "source": [
    "## Are there any negative examples for the relation extraction?"
   ]
  },
  {
   "cell_type": "code",
   "execution_count": 29,
   "metadata": {},
   "outputs": [],
   "source": [
    "relations = set()\n",
    "relations_to_schemas = defaultdict(list)\n",
    "for schema in relation_schema_counts.index:\n",
    "    relations_to_schemas[schema[1]].append(schema)\n",
    "#relations_to_schemas"
   ]
  },
  {
   "cell_type": "code",
   "execution_count": 30,
   "metadata": {},
   "outputs": [],
   "source": [
    "def count_negatives(schemas, row):\n",
    "    entities = row['entities']\n",
    "    relations = row['relations']\n",
    "    relations = [(r[0], r[2]) for r in relations]\n",
    "    negative_examples = 0\n",
    "    for schema in schemas:\n",
    "        head_type, _, tail_type = schema\n",
    "        potential_heads = [e[0] for e in entities if e[1] == head_type]\n",
    "        potential_tails = [e[0] for e in entities if e[1] == tail_type]\n",
    "        potential_assignments = list(itertools.product(potential_heads, potential_tails))\n",
    "        free_assignments = [pa for pa in potential_assignments if pa not in relations]\n",
    "        negative_examples += len(free_assignments)\n",
    "    return negative_examples"
   ]
  },
  {
   "cell_type": "code",
   "execution_count": 31,
   "metadata": {},
   "outputs": [],
   "source": [
    "relations_to_negatives = defaultdict(int)\n",
    "for relation, schemas in relations_to_schemas.items():\n",
    "    for idx, row in df.iterrows():\n",
    "        relations_to_negatives[relation] += count_negatives(schemas, row)"
   ]
  },
  {
   "cell_type": "code",
   "execution_count": 32,
   "metadata": {},
   "outputs": [
    {
     "data": {
      "text/plain": [
       "defaultdict(int,\n",
       "            {'Direct-Defines': 3408,\n",
       "             'AKA': 309,\n",
       "             'Supplements': 4333,\n",
       "             'Indirect-Defines': 105,\n",
       "             'Refers-To': 304,\n",
       "             'fragment': 42})"
      ]
     },
     "execution_count": 32,
     "metadata": {},
     "output_type": "execute_result"
    }
   ],
   "source": [
    "relations_to_negatives"
   ]
  },
  {
   "cell_type": "markdown",
   "metadata": {},
   "source": [
    "## How good is the created split?"
   ]
  },
  {
   "cell_type": "code",
   "execution_count": 179,
   "metadata": {},
   "outputs": [],
   "source": [
    "train_df = parse_df(train_file)\n",
    "dev_df = parse_df(dev_file)\n",
    "test_df = parse_df(test_file)\n",
    "train_df['split'] = 'train'\n",
    "dev_df['split'] = 'dev'\n",
    "test_df['split'] = 'test'\n",
    "split_df = pd.concat([train_df, dev_df, test_df])"
   ]
  },
  {
   "cell_type": "code",
   "execution_count": 180,
   "metadata": {},
   "outputs": [
    {
     "data": {
      "text/html": [
       "<div>\n",
       "<style scoped>\n",
       "    .dataframe tbody tr th:only-of-type {\n",
       "        vertical-align: middle;\n",
       "    }\n",
       "\n",
       "    .dataframe tbody tr th {\n",
       "        vertical-align: top;\n",
       "    }\n",
       "\n",
       "    .dataframe thead th {\n",
       "        text-align: right;\n",
       "    }\n",
       "</style>\n",
       "<table border=\"1\" class=\"dataframe\">\n",
       "  <thead>\n",
       "    <tr style=\"text-align: right;\">\n",
       "      <th></th>\n",
       "      <th>split</th>\n",
       "      <th>dev</th>\n",
       "      <th>test</th>\n",
       "      <th>train</th>\n",
       "    </tr>\n",
       "  </thead>\n",
       "  <tbody>\n",
       "    <tr>\n",
       "      <th rowspan=\"8\" valign=\"top\">num_sents</th>\n",
       "      <th>count</th>\n",
       "      <td>733.000000</td>\n",
       "      <td>344.000000</td>\n",
       "      <td>6261.000000</td>\n",
       "    </tr>\n",
       "    <tr>\n",
       "      <th>mean</th>\n",
       "      <td>2.489768</td>\n",
       "      <td>2.482558</td>\n",
       "      <td>2.497205</td>\n",
       "    </tr>\n",
       "    <tr>\n",
       "      <th>std</th>\n",
       "      <td>0.660325</td>\n",
       "      <td>0.682764</td>\n",
       "      <td>0.631343</td>\n",
       "    </tr>\n",
       "    <tr>\n",
       "      <th>min</th>\n",
       "      <td>1.000000</td>\n",
       "      <td>1.000000</td>\n",
       "      <td>1.000000</td>\n",
       "    </tr>\n",
       "    <tr>\n",
       "      <th>25%</th>\n",
       "      <td>2.000000</td>\n",
       "      <td>2.000000</td>\n",
       "      <td>2.000000</td>\n",
       "    </tr>\n",
       "    <tr>\n",
       "      <th>50%</th>\n",
       "      <td>3.000000</td>\n",
       "      <td>3.000000</td>\n",
       "      <td>3.000000</td>\n",
       "    </tr>\n",
       "    <tr>\n",
       "      <th>75%</th>\n",
       "      <td>3.000000</td>\n",
       "      <td>3.000000</td>\n",
       "      <td>3.000000</td>\n",
       "    </tr>\n",
       "    <tr>\n",
       "      <th>max</th>\n",
       "      <td>3.000000</td>\n",
       "      <td>3.000000</td>\n",
       "      <td>3.000000</td>\n",
       "    </tr>\n",
       "    <tr>\n",
       "      <th rowspan=\"8\" valign=\"top\">num_tokens</th>\n",
       "      <th>count</th>\n",
       "      <td>733.000000</td>\n",
       "      <td>344.000000</td>\n",
       "      <td>6261.000000</td>\n",
       "    </tr>\n",
       "    <tr>\n",
       "      <th>mean</th>\n",
       "      <td>64.705321</td>\n",
       "      <td>63.933140</td>\n",
       "      <td>65.831497</td>\n",
       "    </tr>\n",
       "    <tr>\n",
       "      <th>std</th>\n",
       "      <td>27.784208</td>\n",
       "      <td>26.229391</td>\n",
       "      <td>26.664000</td>\n",
       "    </tr>\n",
       "    <tr>\n",
       "      <th>min</th>\n",
       "      <td>1.000000</td>\n",
       "      <td>2.000000</td>\n",
       "      <td>1.000000</td>\n",
       "    </tr>\n",
       "    <tr>\n",
       "      <th>25%</th>\n",
       "      <td>46.000000</td>\n",
       "      <td>46.000000</td>\n",
       "      <td>48.000000</td>\n",
       "    </tr>\n",
       "    <tr>\n",
       "      <th>50%</th>\n",
       "      <td>62.000000</td>\n",
       "      <td>64.000000</td>\n",
       "      <td>63.000000</td>\n",
       "    </tr>\n",
       "    <tr>\n",
       "      <th>75%</th>\n",
       "      <td>81.000000</td>\n",
       "      <td>79.000000</td>\n",
       "      <td>82.000000</td>\n",
       "    </tr>\n",
       "    <tr>\n",
       "      <th>max</th>\n",
       "      <td>184.000000</td>\n",
       "      <td>162.000000</td>\n",
       "      <td>210.000000</td>\n",
       "    </tr>\n",
       "    <tr>\n",
       "      <th rowspan=\"8\" valign=\"top\">num_entities</th>\n",
       "      <th>count</th>\n",
       "      <td>733.000000</td>\n",
       "      <td>344.000000</td>\n",
       "      <td>6261.000000</td>\n",
       "    </tr>\n",
       "    <tr>\n",
       "      <th>mean</th>\n",
       "      <td>1.912688</td>\n",
       "      <td>1.886628</td>\n",
       "      <td>1.982750</td>\n",
       "    </tr>\n",
       "    <tr>\n",
       "      <th>std</th>\n",
       "      <td>1.856318</td>\n",
       "      <td>1.848945</td>\n",
       "      <td>1.766214</td>\n",
       "    </tr>\n",
       "    <tr>\n",
       "      <th>min</th>\n",
       "      <td>0.000000</td>\n",
       "      <td>0.000000</td>\n",
       "      <td>0.000000</td>\n",
       "    </tr>\n",
       "    <tr>\n",
       "      <th>25%</th>\n",
       "      <td>0.000000</td>\n",
       "      <td>0.000000</td>\n",
       "      <td>0.000000</td>\n",
       "    </tr>\n",
       "    <tr>\n",
       "      <th>50%</th>\n",
       "      <td>2.000000</td>\n",
       "      <td>2.000000</td>\n",
       "      <td>2.000000</td>\n",
       "    </tr>\n",
       "    <tr>\n",
       "      <th>75%</th>\n",
       "      <td>3.000000</td>\n",
       "      <td>3.000000</td>\n",
       "      <td>3.000000</td>\n",
       "    </tr>\n",
       "    <tr>\n",
       "      <th>max</th>\n",
       "      <td>12.000000</td>\n",
       "      <td>10.000000</td>\n",
       "      <td>12.000000</td>\n",
       "    </tr>\n",
       "    <tr>\n",
       "      <th rowspan=\"8\" valign=\"top\">num_relations</th>\n",
       "      <th>count</th>\n",
       "      <td>733.000000</td>\n",
       "      <td>344.000000</td>\n",
       "      <td>6261.000000</td>\n",
       "    </tr>\n",
       "    <tr>\n",
       "      <th>mean</th>\n",
       "      <td>1.000000</td>\n",
       "      <td>0.965116</td>\n",
       "      <td>1.047596</td>\n",
       "    </tr>\n",
       "    <tr>\n",
       "      <th>std</th>\n",
       "      <td>1.048027</td>\n",
       "      <td>0.995004</td>\n",
       "      <td>0.996465</td>\n",
       "    </tr>\n",
       "    <tr>\n",
       "      <th>min</th>\n",
       "      <td>0.000000</td>\n",
       "      <td>0.000000</td>\n",
       "      <td>0.000000</td>\n",
       "    </tr>\n",
       "    <tr>\n",
       "      <th>25%</th>\n",
       "      <td>0.000000</td>\n",
       "      <td>0.000000</td>\n",
       "      <td>0.000000</td>\n",
       "    </tr>\n",
       "    <tr>\n",
       "      <th>50%</th>\n",
       "      <td>1.000000</td>\n",
       "      <td>1.000000</td>\n",
       "      <td>1.000000</td>\n",
       "    </tr>\n",
       "    <tr>\n",
       "      <th>75%</th>\n",
       "      <td>2.000000</td>\n",
       "      <td>2.000000</td>\n",
       "      <td>2.000000</td>\n",
       "    </tr>\n",
       "    <tr>\n",
       "      <th>max</th>\n",
       "      <td>6.000000</td>\n",
       "      <td>5.000000</td>\n",
       "      <td>7.000000</td>\n",
       "    </tr>\n",
       "    <tr>\n",
       "      <th rowspan=\"8\" valign=\"top\">num_inter_sentence_relations</th>\n",
       "      <th>count</th>\n",
       "      <td>733.000000</td>\n",
       "      <td>344.000000</td>\n",
       "      <td>6261.000000</td>\n",
       "    </tr>\n",
       "    <tr>\n",
       "      <th>mean</th>\n",
       "      <td>0.085948</td>\n",
       "      <td>0.075581</td>\n",
       "      <td>0.099345</td>\n",
       "    </tr>\n",
       "    <tr>\n",
       "      <th>std</th>\n",
       "      <td>0.290057</td>\n",
       "      <td>0.264712</td>\n",
       "      <td>0.329635</td>\n",
       "    </tr>\n",
       "    <tr>\n",
       "      <th>min</th>\n",
       "      <td>0.000000</td>\n",
       "      <td>0.000000</td>\n",
       "      <td>0.000000</td>\n",
       "    </tr>\n",
       "    <tr>\n",
       "      <th>25%</th>\n",
       "      <td>0.000000</td>\n",
       "      <td>0.000000</td>\n",
       "      <td>0.000000</td>\n",
       "    </tr>\n",
       "    <tr>\n",
       "      <th>50%</th>\n",
       "      <td>0.000000</td>\n",
       "      <td>0.000000</td>\n",
       "      <td>0.000000</td>\n",
       "    </tr>\n",
       "    <tr>\n",
       "      <th>75%</th>\n",
       "      <td>0.000000</td>\n",
       "      <td>0.000000</td>\n",
       "      <td>0.000000</td>\n",
       "    </tr>\n",
       "    <tr>\n",
       "      <th>max</th>\n",
       "      <td>2.000000</td>\n",
       "      <td>1.000000</td>\n",
       "      <td>4.000000</td>\n",
       "    </tr>\n",
       "  </tbody>\n",
       "</table>\n",
       "</div>"
      ],
      "text/plain": [
       "split                                      dev        test        train\n",
       "num_sents                    count  733.000000  344.000000  6261.000000\n",
       "                             mean     2.489768    2.482558     2.497205\n",
       "                             std      0.660325    0.682764     0.631343\n",
       "                             min      1.000000    1.000000     1.000000\n",
       "                             25%      2.000000    2.000000     2.000000\n",
       "                             50%      3.000000    3.000000     3.000000\n",
       "                             75%      3.000000    3.000000     3.000000\n",
       "                             max      3.000000    3.000000     3.000000\n",
       "num_tokens                   count  733.000000  344.000000  6261.000000\n",
       "                             mean    64.705321   63.933140    65.831497\n",
       "                             std     27.784208   26.229391    26.664000\n",
       "                             min      1.000000    2.000000     1.000000\n",
       "                             25%     46.000000   46.000000    48.000000\n",
       "                             50%     62.000000   64.000000    63.000000\n",
       "                             75%     81.000000   79.000000    82.000000\n",
       "                             max    184.000000  162.000000   210.000000\n",
       "num_entities                 count  733.000000  344.000000  6261.000000\n",
       "                             mean     1.912688    1.886628     1.982750\n",
       "                             std      1.856318    1.848945     1.766214\n",
       "                             min      0.000000    0.000000     0.000000\n",
       "                             25%      0.000000    0.000000     0.000000\n",
       "                             50%      2.000000    2.000000     2.000000\n",
       "                             75%      3.000000    3.000000     3.000000\n",
       "                             max     12.000000   10.000000    12.000000\n",
       "num_relations                count  733.000000  344.000000  6261.000000\n",
       "                             mean     1.000000    0.965116     1.047596\n",
       "                             std      1.048027    0.995004     0.996465\n",
       "                             min      0.000000    0.000000     0.000000\n",
       "                             25%      0.000000    0.000000     0.000000\n",
       "                             50%      1.000000    1.000000     1.000000\n",
       "                             75%      2.000000    2.000000     2.000000\n",
       "                             max      6.000000    5.000000     7.000000\n",
       "num_inter_sentence_relations count  733.000000  344.000000  6261.000000\n",
       "                             mean     0.085948    0.075581     0.099345\n",
       "                             std      0.290057    0.264712     0.329635\n",
       "                             min      0.000000    0.000000     0.000000\n",
       "                             25%      0.000000    0.000000     0.000000\n",
       "                             50%      0.000000    0.000000     0.000000\n",
       "                             75%      0.000000    0.000000     0.000000\n",
       "                             max      2.000000    1.000000     4.000000"
      ]
     },
     "execution_count": 180,
     "metadata": {},
     "output_type": "execute_result"
    }
   ],
   "source": [
    "split_df[['split',\n",
    "          'num_sents',\n",
    "          'num_tokens',\n",
    "          'num_entities',\n",
    "          'num_relations',\n",
    "          'num_inter_sentence_relations']].groupby('split').describe().transpose()"
   ]
  },
  {
   "cell_type": "code",
   "execution_count": 200,
   "metadata": {},
   "outputs": [
    {
     "data": {
      "text/plain": [
       "<matplotlib.axes._subplots.AxesSubplot at 0x7fdf906aa210>"
      ]
     },
     "execution_count": 200,
     "metadata": {},
     "output_type": "execute_result"
    },
    {
     "data": {
      "image/png": "[encoded data removed]",
      "text/plain": [
       "<Figure size 432x288 with 1 Axes>"
      ]
     },
     "metadata": {
      "needs_background": "light"
     },
     "output_type": "display_data"
    }
   ],
   "source": [
    "entity_types_by_split = split_df.query('num_entities > 0')[['split', 'entity_types', 'id']].explode('entity_types').groupby(['split', 'entity_types']).count()\n",
    "entity_types_by_split = entity_types_by_split.unstack(level=0)\n",
    "(entity_types_by_split/entity_types_by_split.sum()).plot.bar()"
   ]
  },
  {
   "cell_type": "code",
   "execution_count": 214,
   "metadata": {},
   "outputs": [
    {
     "data": {
      "text/html": [
       "<div>\n",
       "<style scoped>\n",
       "    .dataframe tbody tr th:only-of-type {\n",
       "        vertical-align: middle;\n",
       "    }\n",
       "\n",
       "    .dataframe tbody tr th {\n",
       "        vertical-align: top;\n",
       "    }\n",
       "\n",
       "    .dataframe thead th {\n",
       "        text-align: right;\n",
       "    }\n",
       "</style>\n",
       "<table border=\"1\" class=\"dataframe\">\n",
       "  <thead>\n",
       "    <tr style=\"text-align: right;\">\n",
       "      <th>split</th>\n",
       "      <th>train</th>\n",
       "      <th>dev</th>\n",
       "      <th>test</th>\n",
       "    </tr>\n",
       "    <tr>\n",
       "      <th>entity_types</th>\n",
       "      <th></th>\n",
       "      <th></th>\n",
       "      <th></th>\n",
       "    </tr>\n",
       "  </thead>\n",
       "  <tbody>\n",
       "    <tr>\n",
       "      <th>Term</th>\n",
       "      <td>6385.0</td>\n",
       "      <td>1410.0</td>\n",
       "      <td>778.0</td>\n",
       "    </tr>\n",
       "    <tr>\n",
       "      <th>Definition</th>\n",
       "      <td>5943.0</td>\n",
       "      <td>1293.0</td>\n",
       "      <td>715.0</td>\n",
       "    </tr>\n",
       "    <tr>\n",
       "      <th>Alias-Term</th>\n",
       "      <td>671.0</td>\n",
       "      <td>164.0</td>\n",
       "      <td>86.0</td>\n",
       "    </tr>\n",
       "    <tr>\n",
       "      <th>Secondary-Definition</th>\n",
       "      <td>454.0</td>\n",
       "      <td>119.0</td>\n",
       "      <td>64.0</td>\n",
       "    </tr>\n",
       "    <tr>\n",
       "      <th>Referential-Definition</th>\n",
       "      <td>154.0</td>\n",
       "      <td>36.0</td>\n",
       "      <td>27.0</td>\n",
       "    </tr>\n",
       "    <tr>\n",
       "      <th>Qualifier</th>\n",
       "      <td>145.0</td>\n",
       "      <td>33.0</td>\n",
       "      <td>25.0</td>\n",
       "    </tr>\n",
       "    <tr>\n",
       "      <th>Referential-Term</th>\n",
       "      <td>134.0</td>\n",
       "      <td>25.0</td>\n",
       "      <td>15.0</td>\n",
       "    </tr>\n",
       "    <tr>\n",
       "      <th>Definition-frag</th>\n",
       "      <td>83.0</td>\n",
       "      <td>18.0</td>\n",
       "      <td>10.0</td>\n",
       "    </tr>\n",
       "    <tr>\n",
       "      <th>Term-frag</th>\n",
       "      <td>7.0</td>\n",
       "      <td>2.0</td>\n",
       "      <td>NaN</td>\n",
       "    </tr>\n",
       "    <tr>\n",
       "      <th>Ordered-Definition</th>\n",
       "      <td>6.0</td>\n",
       "      <td>1.0</td>\n",
       "      <td>2.0</td>\n",
       "    </tr>\n",
       "    <tr>\n",
       "      <th>Ordered-Term</th>\n",
       "      <td>6.0</td>\n",
       "      <td>1.0</td>\n",
       "      <td>2.0</td>\n",
       "    </tr>\n",
       "    <tr>\n",
       "      <th>Alias-Term-frag</th>\n",
       "      <td>2.0</td>\n",
       "      <td>NaN</td>\n",
       "      <td>NaN</td>\n",
       "    </tr>\n",
       "  </tbody>\n",
       "</table>\n",
       "</div>"
      ],
      "text/plain": [
       "split                    train     dev   test\n",
       "entity_types                                 \n",
       "Term                    6385.0  1410.0  778.0\n",
       "Definition              5943.0  1293.0  715.0\n",
       "Alias-Term               671.0   164.0   86.0\n",
       "Secondary-Definition     454.0   119.0   64.0\n",
       "Referential-Definition   154.0    36.0   27.0\n",
       "Qualifier                145.0    33.0   25.0\n",
       "Referential-Term         134.0    25.0   15.0\n",
       "Definition-frag           83.0    18.0   10.0\n",
       "Term-frag                  7.0     2.0    NaN\n",
       "Ordered-Definition         6.0     1.0    2.0\n",
       "Ordered-Term               6.0     1.0    2.0\n",
       "Alias-Term-frag            2.0     NaN    NaN"
      ]
     },
     "execution_count": 214,
     "metadata": {},
     "output_type": "execute_result"
    }
   ],
   "source": [
    "entity_types_by_split.sort_values(by=('id','train'), ascending=False)['id'][['train', 'dev', 'test']]"
   ]
  },
  {
   "cell_type": "code",
   "execution_count": 213,
   "metadata": {},
   "outputs": [],
   "source": [
    "#print(entity_types_by_split.sort_values(by=('id','train'), ascending=False)['id'][['train', 'dev', 'test']].fillna(0).astype('int64').to_latex())"
   ]
  },
  {
   "cell_type": "code",
   "execution_count": 182,
   "metadata": {},
   "outputs": [
    {
     "data": {
      "text/plain": [
       "<matplotlib.axes._subplots.AxesSubplot at 0x7fdf90218090>"
      ]
     },
     "execution_count": 182,
     "metadata": {},
     "output_type": "execute_result"
    },
    {
     "data": {
      "image/png": "[encoded data removed]",
      "text/plain": [
       "<Figure size 432x288 with 1 Axes>"
      ]
     },
     "metadata": {
      "needs_background": "light"
     },
     "output_type": "display_data"
    }
   ],
   "source": [
    "relation_types_by_split = split_df.query('num_relations > 0')[['split', 'relation_types', 'id']].explode('relation_types').groupby(['split', 'relation_types']).count()\n",
    "relation_types_by_split = relation_types_by_split.unstack(level=0)\n",
    "relation_types_by_split = relation_types_by_split/relation_types_by_split.sum()\n",
    "relation_types_by_split.plot.bar()"
   ]
  },
  {
   "cell_type": "code",
   "execution_count": 36,
   "metadata": {},
   "outputs": [
    {
     "data": {
      "text/html": [
       "<div>\n",
       "<style scoped>\n",
       "    .dataframe tbody tr th:only-of-type {\n",
       "        vertical-align: middle;\n",
       "    }\n",
       "\n",
       "    .dataframe tbody tr th {\n",
       "        vertical-align: top;\n",
       "    }\n",
       "\n",
       "    .dataframe thead tr th {\n",
       "        text-align: left;\n",
       "    }\n",
       "\n",
       "    .dataframe thead tr:last-of-type th {\n",
       "        text-align: right;\n",
       "    }\n",
       "</style>\n",
       "<table border=\"1\" class=\"dataframe\">\n",
       "  <thead>\n",
       "    <tr>\n",
       "      <th></th>\n",
       "      <th colspan=\"2\" halign=\"left\">id</th>\n",
       "    </tr>\n",
       "    <tr>\n",
       "      <th>split</th>\n",
       "      <th>dev</th>\n",
       "      <th>train</th>\n",
       "    </tr>\n",
       "    <tr>\n",
       "      <th>relation_types</th>\n",
       "      <th></th>\n",
       "      <th></th>\n",
       "    </tr>\n",
       "  </thead>\n",
       "  <tbody>\n",
       "    <tr>\n",
       "      <th>AKA</th>\n",
       "      <td>0.106956</td>\n",
       "      <td>0.091255</td>\n",
       "    </tr>\n",
       "    <tr>\n",
       "      <th>Direct-Defines</th>\n",
       "      <td>0.742708</td>\n",
       "      <td>0.765526</td>\n",
       "    </tr>\n",
       "    <tr>\n",
       "      <th>Indirect-Defines</th>\n",
       "      <td>0.030666</td>\n",
       "      <td>0.033235</td>\n",
       "    </tr>\n",
       "    <tr>\n",
       "      <th>Refers-To</th>\n",
       "      <td>0.017203</td>\n",
       "      <td>0.019856</td>\n",
       "    </tr>\n",
       "    <tr>\n",
       "      <th>Supplements</th>\n",
       "      <td>0.088257</td>\n",
       "      <td>0.077454</td>\n",
       "    </tr>\n",
       "    <tr>\n",
       "      <th>fragment</th>\n",
       "      <td>0.014211</td>\n",
       "      <td>0.012674</td>\n",
       "    </tr>\n",
       "  </tbody>\n",
       "</table>\n",
       "</div>"
      ],
      "text/plain": [
       "                        id          \n",
       "split                  dev     train\n",
       "relation_types                      \n",
       "AKA               0.106956  0.091255\n",
       "Direct-Defines    0.742708  0.765526\n",
       "Indirect-Defines  0.030666  0.033235\n",
       "Refers-To         0.017203  0.019856\n",
       "Supplements       0.088257  0.077454\n",
       "fragment          0.014211  0.012674"
      ]
     },
     "execution_count": 36,
     "metadata": {},
     "output_type": "execute_result"
    }
   ],
   "source": [
    "relation_types_by_split"
   ]
  },
  {
   "cell_type": "markdown",
   "metadata": {},
   "source": [
    "## Find a good example for the paper"
   ]
  },
  {
   "cell_type": "code",
   "execution_count": 43,
   "metadata": {},
   "outputs": [
    {
     "data": {
      "text/html": [
       "<div>\n",
       "<style scoped>\n",
       "    .dataframe tbody tr th:only-of-type {\n",
       "        vertical-align: middle;\n",
       "    }\n",
       "\n",
       "    .dataframe tbody tr th {\n",
       "        vertical-align: top;\n",
       "    }\n",
       "\n",
       "    .dataframe thead th {\n",
       "        text-align: right;\n",
       "    }\n",
       "</style>\n",
       "<table border=\"1\" class=\"dataframe\">\n",
       "  <thead>\n",
       "    <tr style=\"text-align: right;\">\n",
       "      <th></th>\n",
       "      <th>id</th>\n",
       "      <th>num_sents</th>\n",
       "      <th>num_tokens</th>\n",
       "      <th>num_entities</th>\n",
       "      <th>num_relation_types</th>\n",
       "      <th>num_relations</th>\n",
       "      <th>relation_types</th>\n",
       "      <th>relation_schemes</th>\n",
       "      <th>entity_types</th>\n",
       "      <th>has_def</th>\n",
       "      <th>num_inter_sentence_relations</th>\n",
       "      <th>inter_sentence_relation_types</th>\n",
       "      <th>entities</th>\n",
       "      <th>relations</th>\n",
       "    </tr>\n",
       "  </thead>\n",
       "  <tbody>\n",
       "    <tr>\n",
       "      <th>351</th>\n",
       "      <td>t1_biology_0_202.deft##35</td>\n",
       "      <td>3</td>\n",
       "      <td>89</td>\n",
       "      <td>12</td>\n",
       "      <td>4</td>\n",
       "      <td>7</td>\n",
       "      <td>[Direct-Defines, fragment, Supplements, Direct...</td>\n",
       "      <td>[(Definition, Direct-Defines, Term), (Term-fra...</td>\n",
       "      <td>[Term, Term, Definition, Definition, Referenti...</td>\n",
       "      <td>True</td>\n",
       "      <td>1</td>\n",
       "      <td>[Supplements]</td>\n",
       "      <td>[(T132, Term), (T130, Term), (T133, Definition...</td>\n",
       "      <td>[(T131, 67, T130, 65, Direct-Defines), (T126-f...</td>\n",
       "    </tr>\n",
       "    <tr>\n",
       "      <th>200</th>\n",
       "      <td>t1_biology_0_101.deft##81</td>\n",
       "      <td>2</td>\n",
       "      <td>99</td>\n",
       "      <td>11</td>\n",
       "      <td>2</td>\n",
       "      <td>6</td>\n",
       "      <td>[Supplements, Direct-Defines, Supplements, Sup...</td>\n",
       "      <td>[(Qualifier, Supplements, Term), (Definition, ...</td>\n",
       "      <td>[Term, Qualifier, Term, Qualifier, Term, Quali...</td>\n",
       "      <td>True</td>\n",
       "      <td>0</td>\n",
       "      <td>[]</td>\n",
       "      <td>[(T13, Term), (T305, Qualifier), (T303, Term),...</td>\n",
       "      <td>[(T306, 42, T303, 48, Supplements), (T14, 21, ...</td>\n",
       "    </tr>\n",
       "    <tr>\n",
       "      <th>84</th>\n",
       "      <td>t1_biology_0_0.deft##84</td>\n",
       "      <td>2</td>\n",
       "      <td>130</td>\n",
       "      <td>8</td>\n",
       "      <td>3</td>\n",
       "      <td>6</td>\n",
       "      <td>[Supplements, Supplements, AKA, AKA, Supplemen...</td>\n",
       "      <td>[(Qualifier, Supplements, Term), (Qualifier, S...</td>\n",
       "      <td>[Qualifier, Definition, Referential-Definition...</td>\n",
       "      <td>True</td>\n",
       "      <td>1</td>\n",
       "      <td>[Refers-To]</td>\n",
       "      <td>[(T268, Qualifier), (T249, Definition), (T267,...</td>\n",
       "      <td>[(T268, 69, T266, 64, Supplements), (T272, 110...</td>\n",
       "    </tr>\n",
       "    <tr>\n",
       "      <th>750</th>\n",
       "      <td>t1_biology_0_404.deft##27</td>\n",
       "      <td>3</td>\n",
       "      <td>63</td>\n",
       "      <td>10</td>\n",
       "      <td>3</td>\n",
       "      <td>6</td>\n",
       "      <td>[AKA, Indirect-Defines, Direct-Defines, Direct...</td>\n",
       "      <td>[(Alias-Term, AKA, Term), (Referential-Definit...</td>\n",
       "      <td>[Term, Term, Alias-Term, Referential-Definitio...</td>\n",
       "      <td>True</td>\n",
       "      <td>0</td>\n",
       "      <td>[]</td>\n",
       "      <td>[(T92, Term), (T95, Term), (T96, Alias-Term), ...</td>\n",
       "      <td>[(T93, 8, T92, 2, AKA), (T100, 37, T101, 41, I...</td>\n",
       "    </tr>\n",
       "    <tr>\n",
       "      <th>1784</th>\n",
       "      <td>t1_biology_1_404.deft##32</td>\n",
       "      <td>3</td>\n",
       "      <td>88</td>\n",
       "      <td>10</td>\n",
       "      <td>3</td>\n",
       "      <td>6</td>\n",
       "      <td>[Direct-Defines, Direct-Defines, Direct-Define...</td>\n",
       "      <td>[(Definition, Direct-Defines, Term), (Definiti...</td>\n",
       "      <td>[Definition, Definition, Definition, Term, Ter...</td>\n",
       "      <td>True</td>\n",
       "      <td>0</td>\n",
       "      <td>[]</td>\n",
       "      <td>[(T126, Definition), (T130, Definition), (T128...</td>\n",
       "      <td>[(T128, 42, T129, 49, Direct-Defines), (T125, ...</td>\n",
       "    </tr>\n",
       "  </tbody>\n",
       "</table>\n",
       "</div>"
      ],
      "text/plain": [
       "                             id  num_sents  num_tokens  num_entities  \\\n",
       "351   t1_biology_0_202.deft##35          3          89            12   \n",
       "200   t1_biology_0_101.deft##81          2          99            11   \n",
       "84      t1_biology_0_0.deft##84          2         130             8   \n",
       "750   t1_biology_0_404.deft##27          3          63            10   \n",
       "1784  t1_biology_1_404.deft##32          3          88            10   \n",
       "\n",
       "      num_relation_types  num_relations  \\\n",
       "351                    4              7   \n",
       "200                    2              6   \n",
       "84                     3              6   \n",
       "750                    3              6   \n",
       "1784                   3              6   \n",
       "\n",
       "                                         relation_types  \\\n",
       "351   [Direct-Defines, fragment, Supplements, Direct...   \n",
       "200   [Supplements, Direct-Defines, Supplements, Sup...   \n",
       "84    [Supplements, Supplements, AKA, AKA, Supplemen...   \n",
       "750   [AKA, Indirect-Defines, Direct-Defines, Direct...   \n",
       "1784  [Direct-Defines, Direct-Defines, Direct-Define...   \n",
       "\n",
       "                                       relation_schemes  \\\n",
       "351   [(Definition, Direct-Defines, Term), (Term-fra...   \n",
       "200   [(Qualifier, Supplements, Term), (Definition, ...   \n",
       "84    [(Qualifier, Supplements, Term), (Qualifier, S...   \n",
       "750   [(Alias-Term, AKA, Term), (Referential-Definit...   \n",
       "1784  [(Definition, Direct-Defines, Term), (Definiti...   \n",
       "\n",
       "                                           entity_types  has_def  \\\n",
       "351   [Term, Term, Definition, Definition, Referenti...     True   \n",
       "200   [Term, Qualifier, Term, Qualifier, Term, Quali...     True   \n",
       "84    [Qualifier, Definition, Referential-Definition...     True   \n",
       "750   [Term, Term, Alias-Term, Referential-Definitio...     True   \n",
       "1784  [Definition, Definition, Definition, Term, Ter...     True   \n",
       "\n",
       "      num_inter_sentence_relations inter_sentence_relation_types  \\\n",
       "351                              1                 [Supplements]   \n",
       "200                              0                            []   \n",
       "84                               1                   [Refers-To]   \n",
       "750                              0                            []   \n",
       "1784                             0                            []   \n",
       "\n",
       "                                               entities  \\\n",
       "351   [(T132, Term), (T130, Term), (T133, Definition...   \n",
       "200   [(T13, Term), (T305, Qualifier), (T303, Term),...   \n",
       "84    [(T268, Qualifier), (T249, Definition), (T267,...   \n",
       "750   [(T92, Term), (T95, Term), (T96, Alias-Term), ...   \n",
       "1784  [(T126, Definition), (T130, Definition), (T128...   \n",
       "\n",
       "                                              relations  \n",
       "351   [(T131, 67, T130, 65, Direct-Defines), (T126-f...  \n",
       "200   [(T306, 42, T303, 48, Supplements), (T14, 21, ...  \n",
       "84    [(T268, 69, T266, 64, Supplements), (T272, 110...  \n",
       "750   [(T93, 8, T92, 2, AKA), (T100, 37, T101, 41, I...  \n",
       "1784  [(T128, 42, T129, 49, Direct-Defines), (T125, ...  "
      ]
     },
     "execution_count": 43,
     "metadata": {},
     "output_type": "execute_result"
    }
   ],
   "source": [
    "df.sort_values(by='num_relations', ascending=False).head()"
   ]
  },
  {
   "cell_type": "code",
   "execution_count": 76,
   "metadata": {},
   "outputs": [],
   "source": [
    "paper_example = None\n",
    "with open(train_file) as f:\n",
    "    for line in f.readlines():\n",
    "        example = json.loads(line)\n",
    "        if example['id'] == 't1_biology_0_404.deft##27':\n",
    "            paper_example = example"
   ]
  },
  {
   "cell_type": "code",
   "execution_count": 77,
   "metadata": {},
   "outputs": [
    {
     "data": {
      "text/plain": [
       "'1295 . A frontal plane ( also called a coronal plane ) separates the front from the back . A transverse plane ( or , horizontal plane ) divides the animal into upper and lower portions . This is sometimes called a cross section , and , if the transverse cut is at an angle , it is called an oblique plane .'"
      ]
     },
     "execution_count": 77,
     "metadata": {},
     "output_type": "execute_result"
    }
   ],
   "source": [
    "\" \".join(paper_example['tokens'])"
   ]
  },
  {
   "cell_type": "code",
   "execution_count": 78,
   "metadata": {},
   "outputs": [
    {
     "data": {
      "text/plain": [
       "{('T101', 'Indirect-Defines'),\n",
       " ('T92', 'AKA'),\n",
       " ('T92', 'Direct-Defines'),\n",
       " ('T95', 'AKA'),\n",
       " ('T95', 'Direct-Defines'),\n",
       " ('T98', 'Direct-Defines')}"
      ]
     },
     "execution_count": 78,
     "metadata": {},
     "output_type": "execute_result"
    }
   ],
   "source": [
    "set((head, rel) for head, rel in zip(paper_example['relation_roots'],paper_example['relations']) if rel != '0')"
   ]
  },
  {
   "cell_type": "code",
   "execution_count": 79,
   "metadata": {},
   "outputs": [
    {
     "data": {
      "text/plain": [
       "dict_keys(['tokens', 'start_chars', 'end_chars', 'tags', 'ner_ids', 'relation_roots', 'relations', 'spacy_pos', 'spacy_tag', 'spacy_dep_head', 'spacy_dep_rel', 'spacy_pattern_is_reference', 'spacy_pattern_is_definition', 'spacy_pattern_is_alias', 'spacy_pattern_noisy_alias', 'spacy_pattern_reference_keywords', 'coref_top_spans', 'coref_predicted_antecedents', 'coref_clusters', 'sentence_labels', 'id'])"
      ]
     },
     "execution_count": 79,
     "metadata": {},
     "output_type": "execute_result"
    }
   ],
   "source": [
    "paper_example.keys()"
   ]
  },
  {
   "cell_type": "code",
   "execution_count": 143,
   "metadata": {},
   "outputs": [],
   "source": [
    "def example_to_text(example):\n",
    "    text = \"\"\n",
    "    example_offset = int(example['start_chars'][0])\n",
    "    for token, start_idx in zip(example['tokens'], example['start_chars']):\n",
    "        start_idx = int(start_idx) - example_offset\n",
    "        assert start_idx >= len(text)\n",
    "        while start_idx > len(text):\n",
    "            text += \" \"\n",
    "        text += token\n",
    "    return text"
   ]
  },
  {
   "cell_type": "code",
   "execution_count": 156,
   "metadata": {},
   "outputs": [
    {
     "data": {
      "text/plain": [
       "'1295. A frontal plane (also called a coronal plane) separates the front from the back.         A transverse plane (or, horizontal plane) divides the animal into upper and lower portions.       This is sometimes called a cross section, and, if the transverse cut is at an angle, it is called an oblique plane.'"
      ]
     },
     "execution_count": 156,
     "metadata": {},
     "output_type": "execute_result"
    }
   ],
   "source": [
    "text = example_to_text(paper_example)\n",
    "text"
   ]
  },
  {
   "cell_type": "code",
   "execution_count": 157,
   "metadata": {},
   "outputs": [
    {
     "name": "stdout",
     "output_type": "stream",
     "text": [
      "B-Term A 6 7 A\n",
      "I-Term frontal 8 15 frontal\n",
      "I-Term plane 16 21 plane\n",
      "B-Alias-Term a 35 36 a\n",
      "I-Alias-Term coronal 37 44 coronal\n",
      "I-Alias-Term plane 45 50 plane\n",
      "B-Definition separates 52 61 separates\n",
      "I-Definition the 62 65 the\n",
      "I-Definition front 66 71 front\n",
      "I-Definition from 72 76 from\n",
      "I-Definition the 77 80 the\n",
      "I-Definition back 81 85 back\n",
      "B-Term A 95 96 A\n",
      "I-Term transverse 97 107 transverse\n",
      "I-Term plane 108 113 plane\n",
      "B-Alias-Term horizontal 119 129 horizontal\n",
      "I-Alias-Term plane 130 135 plane\n",
      "B-Definition divides 137 144 divides\n",
      "I-Definition the 145 148 the\n",
      "I-Definition animal 149 155 animal\n",
      "I-Definition into 156 160 into\n",
      "I-Definition upper 161 166 upper\n",
      "I-Definition and 167 170 and\n",
      "I-Definition lower 171 176 lower\n",
      "I-Definition portions 177 185 portions\n",
      "B-Referential-Definition This 193 197 This\n",
      "B-Term a 218 219 a\n",
      "I-Term cross 220 225 cross\n",
      "I-Term section 226 233 section\n",
      "B-Definition the 243 246 the\n",
      "I-Definition transverse 247 257 transverse\n",
      "I-Definition cut 258 261 cut\n",
      "I-Definition is 262 264 is\n",
      "I-Definition at 265 267 at\n",
      "I-Definition an 268 270 an\n",
      "I-Definition angle 271 276 angle\n",
      "B-Term an 291 293 an\n",
      "I-Term oblique 294 301 oblique\n",
      "I-Term plane 302 307 plane\n"
     ]
    }
   ],
   "source": [
    "pe = paper_example\n",
    "offset = pe['start_chars'][0]\n",
    "for tag, tok, start, end in zip(pe['tags'], pe['tokens'], pe['start_chars'], pe['end_chars']):\n",
    "    if tag == 'O':\n",
    "        continue\n",
    "    s = int(start) - int(offset)\n",
    "    e = int(end) - int(offset)\n",
    "    print(tag, tok, s, e, text[s:e])"
   ]
  },
  {
   "cell_type": "code",
   "execution_count": 169,
   "metadata": {},
   "outputs": [
    {
     "name": "stdout",
     "output_type": "stream",
     "text": [
      "T92 B-Term A 6 7 A\n",
      "T92 I-Term frontal 8 15 frontal\n",
      "T92 I-Term plane 16 21 plane\n",
      "T93 B-Alias-Term a 35 36 a\n",
      "T93 I-Alias-Term coronal 37 44 coronal\n",
      "T93 I-Alias-Term plane 45 50 plane\n",
      "T94 B-Definition separates 52 61 separates\n",
      "T94 I-Definition the 62 65 the\n",
      "T94 I-Definition front 66 71 front\n",
      "T94 I-Definition from 72 76 from\n",
      "T94 I-Definition the 77 80 the\n",
      "T94 I-Definition back 81 85 back\n",
      "T95 B-Term A 95 96 A\n",
      "T95 I-Term transverse 97 107 transverse\n",
      "T95 I-Term plane 108 113 plane\n",
      "T96 B-Alias-Term horizontal 119 129 horizontal\n",
      "T96 I-Alias-Term plane 130 135 plane\n",
      "T97 B-Definition divides 137 144 divides\n",
      "T97 I-Definition the 145 148 the\n",
      "T97 I-Definition animal 149 155 animal\n",
      "T97 I-Definition into 156 160 into\n",
      "T97 I-Definition upper 161 166 upper\n",
      "T97 I-Definition and 167 170 and\n",
      "T97 I-Definition lower 171 176 lower\n",
      "T97 I-Definition portions 177 185 portions\n",
      "T100 B-Referential-Definition This 193 197 This\n",
      "T101 B-Term a 218 219 a\n",
      "T101 I-Term cross 220 225 cross\n",
      "T101 I-Term section 226 233 section\n",
      "T99 B-Definition the 243 246 the\n",
      "T99 I-Definition transverse 247 257 transverse\n",
      "T99 I-Definition cut 258 261 cut\n",
      "T99 I-Definition is 262 264 is\n",
      "T99 I-Definition at 265 267 at\n",
      "T99 I-Definition an 268 270 an\n",
      "T99 I-Definition angle 271 276 angle\n",
      "T98 B-Term an 291 293 an\n",
      "T98 I-Term oblique 294 301 oblique\n",
      "T98 I-Term plane 302 307 plane\n"
     ]
    }
   ],
   "source": [
    "pe = paper_example\n",
    "offset = pe['start_chars'][0]\n",
    "for nid, tag, tok, start, end in zip(pe['ner_ids'], pe['tags'], pe['tokens'], pe['start_chars'], pe['end_chars']):\n",
    "    if tag == 'O':\n",
    "        continue\n",
    "    s = int(start) - int(offset)\n",
    "    e = int(end) - int(offset)\n",
    "    print(nid, tag, tok, s, e, text[s:e])"
   ]
  },
  {
   "cell_type": "code",
   "execution_count": 170,
   "metadata": {},
   "outputs": [
    {
     "name": "stdout",
     "output_type": "stream",
     "text": [
      "R1\tDirect-Defines Arg1:T94 Arg2:T92\t\n",
      "R2\tAKA Arg1:T96 Arg2:T95\t\n",
      "R3\tIndirect-Defines Arg1:T100 Arg2:T101\t\n",
      "R4\tDirect-Defines Arg1:T97 Arg2:T95\t\n",
      "R5\tAKA Arg1:T93 Arg2:T92\t\n",
      "R6\tDirect-Defines Arg1:T99 Arg2:T98\t\n"
     ]
    }
   ],
   "source": [
    "rel_idx = 1\n",
    "for nid, root, rel in set(zip(pe['ner_ids'], pe['relation_roots'], pe['relations'])):\n",
    "    if root == '-1':\n",
    "        continue\n",
    "    print(f\"R{rel_idx}\\t{rel} Arg1:{nid} Arg2:{root}\\t\")\n",
    "    rel_idx += 1"
   ]
  },
  {
   "cell_type": "code",
   "execution_count": null,
   "metadata": {},
   "outputs": [],
   "source": []
  }
 ],
 "metadata": {
  "kernelspec": {
   "display_name": "Python 3",
   "language": "python",
   "name": "python3"
  },
  "language_info": {
   "codemirror_mode": {
    "name": "ipython",
    "version": 3
   },
   "file_extension": ".py",
   "mimetype": "text/x-python",
   "name": "python",
   "nbconvert_exporter": "python",
   "pygments_lexer": "ipython3",
   "version": "3.7.4"
  }
 },
 "nbformat": 4,
 "nbformat_minor": 4
}
