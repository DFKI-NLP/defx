{
 "cells": [
  {
   "cell_type": "code",
   "execution_count": 1,
   "metadata": {},
   "outputs": [],
   "source": [
    "import os\n",
    "import sys\n",
    "from collections import OrderedDict\n",
    "from pathlib import Path\n",
    "\n",
    "import pandas as pd\n",
    "from yaml import safe_load\n",
    "\n",
    "sys.path.append('..')\n",
    "sys.path.append('../data/deft_corpus/evaluation/program')\n",
    "from defx.util.official_evaluation import evaluate_subtasks"
   ]
  },
  {
   "cell_type": "code",
   "execution_count": 2,
   "metadata": {},
   "outputs": [
    {
     "name": "stdout",
     "output_type": "stream",
     "text": [
      "serv-9209\n"
     ]
    }
   ],
   "source": [
    "!hostname"
   ]
  },
  {
   "cell_type": "code",
   "execution_count": 3,
   "metadata": {},
   "outputs": [],
   "source": [
    "models_path = Path('/home/huebner/research/semeval_2020_task_6/search')"
   ]
  },
  {
   "cell_type": "code",
   "execution_count": 4,
   "metadata": {},
   "outputs": [
    {
     "name": "stdout",
     "output_type": "stream",
     "text": [
      "total 20\n",
      "drwxr-xr-x 14 huebner deeplee 4096 26. Feb 17:55 repeated_joint_bert\n",
      "drwxr-xr-x 12 huebner deeplee 4096 26. Feb 14:02 repeated_joint_bert__no_ner_embedder\n",
      "drwxr-xr-x 12 huebner deeplee 4096 12. Feb 12:31 repeated_subtask2_changed_best_epoch\n",
      "drwxr-xr-x 12 huebner deeplee 4096 14. Feb 11:38 repeated_subtask2_split_bert_coarse_f1\n",
      "drwxr-xr-x 12 huebner deeplee 4096 14. Feb 11:39 repeated_subtask2_split_bert_modifier_f1\n"
     ]
    }
   ],
   "source": [
    "!ls -l {models_path}"
   ]
  },
  {
   "cell_type": "code",
   "execution_count": 5,
   "metadata": {},
   "outputs": [],
   "source": [
    "split='dev'\n",
    "gold_dir = Path('../data/deft_split/raw/', split)"
   ]
  },
  {
   "cell_type": "code",
   "execution_count": 6,
   "metadata": {},
   "outputs": [],
   "source": [
    "config_path = Path('../data/deft_corpus/evaluation/program/configs/eval_test.yaml')\n",
    "assert config_path.exists() and config_path.is_file(), 'Config not found'\n",
    "with config_path.open() as cfg_file:\n",
    "    config = safe_load(cfg_file)"
   ]
  },
  {
   "cell_type": "code",
   "execution_count": 8,
   "metadata": {},
   "outputs": [],
   "source": [
    "def format_model_results(model_results):\n",
    "    run_dfs = []\n",
    "    for run in model_results:\n",
    "        run = run['subtask2']\n",
    "        d = {(i,j): run[i][j] \n",
    "               for i in run.keys() \n",
    "               for j in run[i].keys()}\n",
    "\n",
    "        mux = pd.MultiIndex.from_tuples(d.keys())\n",
    "        run_df = pd.DataFrame(list(d.values()), index=mux)\n",
    "        run_dfs.append(run_df)\n",
    "    model_df = pd.concat(run_dfs, axis=1)\n",
    "    agg_model_df = model_df.agg(['mean', 'std'], axis=1)\n",
    "    join_columns = lambda x: '+-'.join(round(x*100, 2).astype(str)) if x[1] != 0 else x[0]\n",
    "    joint_agg_model_df = agg_model_df.apply(join_columns, axis=1)\n",
    "    row_idx = list(OrderedDict([(ix[0], '1') for ix in run_df.index]).keys())\n",
    "    final_df = joint_agg_model_df.unstack(level=[1])\n",
    "    final_df = final_df.reindex(row_idx, axis=0).reindex(['precision', 'recall', 'f1-score', 'support'], axis=1)\n",
    "    return final_df"
   ]
  },
  {
   "cell_type": "code",
   "execution_count": 11,
   "metadata": {},
   "outputs": [
    {
     "name": "stdout",
     "output_type": "stream",
     "text": [
      "====================================================================================================\n",
      "Evaluating changed_best_epoch\n",
      "                             precision        recall      f1-score support\n",
      "B-Term                     73.68+-1.49   71.52+-2.02   72.55+-0.87     640\n",
      "I-Term                     71.83+-1.35   64.52+-2.42   67.94+-1.22    1040\n",
      "B-Definition                65.0+-1.11   64.69+-1.69   64.83+-0.87     573\n",
      "I-Definition               70.92+-1.51   72.87+-2.59   71.84+-0.92    8080\n",
      "B-Alias-Term               63.47+-2.83   57.87+-5.24    60.4+-2.97      94\n",
      "I-Alias-Term               45.66+-5.48   39.31+-6.58   41.61+-2.92      72\n",
      "B-Referential-Definition  62.61+-11.64   47.22+-8.38   52.75+-4.92      18\n",
      "I-Referential-Definition   64.59+-9.16   58.33+-8.78   60.49+-5.94      24\n",
      "B-Referential-Term        39.57+-13.38  26.92+-11.61  31.25+-11.54      13\n",
      "I-Referential-Term        38.75+-14.49   56.0+-12.65   44.6+-13.48       5\n",
      "B-Qualifier               34.23+-11.64   38.75+-9.22    35.8+-9.68       8\n",
      "I-Qualifier                37.13+-6.03   47.65+-7.69   41.57+-6.11      34\n",
      "micro avg                  70.35+-1.21   70.92+-2.11    70.6+-0.83   10601\n",
      "macro avg                  55.62+-3.93    53.8+-2.88    53.8+-2.71   10601\n",
      "weighted avg                70.4+-1.17   70.92+-2.11   70.57+-0.81   10601\n",
      "====================================================================================================\n",
      "====================================================================================================\n",
      "Evaluating split_bert_coarse_f1\n",
      "                             precision        recall      f1-score support\n",
      "B-Term                      70.5+-1.45   73.09+-2.34   71.73+-0.56     640\n",
      "I-Term                     69.54+-2.16   66.63+-4.37   67.94+-1.73    1040\n",
      "B-Definition               63.64+-1.93   65.97+-1.81   64.75+-0.89     573\n",
      "I-Definition               69.13+-1.62   73.58+-2.06   71.25+-0.81    8080\n",
      "B-Alias-Term               61.41+-5.29    51.28+-7.4   55.75+-6.11      94\n",
      "I-Alias-Term               38.36+-2.89   33.89+-7.06   35.56+-4.08      72\n",
      "B-Referential-Definition  64.57+-10.87  46.67+-13.66  53.38+-11.45      18\n",
      "I-Referential-Definition   65.58+-9.36   50.0+-10.94   56.38+-9.69      24\n",
      "B-Referential-Term        37.04+-13.04   23.08+-8.11   28.14+-9.52      13\n",
      "I-Referential-Term        39.57+-16.49   48.0+-19.32  42.55+-16.38       5\n",
      "B-Qualifier               33.68+-12.24   45.0+-14.67  38.09+-12.61       8\n",
      "I-Qualifier                34.69+-8.34  50.29+-12.89   40.78+-9.91      34\n",
      "micro avg                  68.47+-1.44    71.72+-2.0   70.02+-0.66   10601\n",
      "macro avg                  53.98+-3.65   52.29+-4.01    52.19+-3.4   10601\n",
      "weighted avg               68.47+-1.43    71.72+-2.0   69.97+-0.65   10601\n",
      "====================================================================================================\n",
      "====================================================================================================\n",
      "Evaluating split_bert_modifier_f1\n",
      "                             precision        recall      f1-score support\n",
      "B-Term                     70.48+-2.15   72.12+-2.93   71.22+-1.03     640\n",
      "I-Term                     69.32+-3.11    68.2+-4.99   68.57+-1.86    1040\n",
      "B-Definition               64.32+-2.77   64.55+-3.46   64.33+-1.35     573\n",
      "I-Definition                69.4+-3.04   71.86+-3.78   70.47+-0.92    8080\n",
      "B-Alias-Term              66.44+-10.47   57.02+-6.88    60.6+-4.74      94\n",
      "I-Alias-Term              50.04+-15.89   37.22+-6.34   40.92+-4.56      72\n",
      "B-Referential-Definition   67.91+-16.8  43.89+-12.95   50.59+-8.55      18\n",
      "I-Referential-Definition  68.86+-15.25  39.17+-11.49   48.43+-9.34      24\n",
      "B-Referential-Term         34.48+-8.99  23.08+-10.26    26.51+-8.0      13\n",
      "I-Referential-Term        44.38+-16.89   54.0+-25.03  47.33+-18.53       5\n",
      "B-Qualifier               39.68+-10.96   40.0+-12.91   37.57+-6.04       8\n",
      "I-Qualifier                36.92+-7.84   51.76+-9.92    42.17+-6.4      34\n",
      "micro avg                  68.73+-2.59   70.48+-3.57   69.48+-0.85   10601\n",
      "macro avg                  56.85+-5.24   51.91+-4.51   52.39+-2.11   10601\n",
      "weighted avg               68.84+-2.65   70.48+-3.57   69.44+-0.82   10601\n",
      "====================================================================================================\n",
      "====================================================================================================\n",
      "Evaluating joint_bert\n",
      "                             precision        recall      f1-score support\n",
      "B-Term                      71.6+-2.34   75.36+-2.86   73.35+-0.57     640\n",
      "I-Term                     70.24+-3.49   70.03+-4.25   69.95+-1.15    1040\n",
      "B-Definition               65.14+-3.42     65.5+-4.0    65.14+-1.0     573\n",
      "I-Definition               70.31+-3.15   71.87+-5.92    70.83+-1.7    8080\n",
      "B-Alias-Term               70.66+-7.65   57.13+-7.49    62.76+-5.2      94\n",
      "I-Alias-Term              54.53+-15.65   34.03+-4.26   40.86+-5.31      72\n",
      "B-Referential-Definition   65.2+-12.49  58.33+-10.88    60.2+-6.02      18\n",
      "I-Referential-Definition   59.29+-16.1  63.75+-12.58    59.2+-7.89      24\n",
      "B-Referential-Term        43.52+-21.28  26.15+-12.14    29.08+-8.7      13\n",
      "I-Referential-Term         45.59+-22.1   54.0+-23.19  44.62+-13.54       5\n",
      "B-Qualifier                38.56+-8.37   41.25+-8.44   38.99+-5.81       8\n",
      "I-Qualifier                42.44+-7.34  51.47+-10.94   45.44+-6.64      34\n",
      "micro avg                  69.71+-2.77   70.98+-4.99   70.15+-1.38   10601\n",
      "macro avg                  58.09+-5.66   55.74+-4.47   55.04+-1.93   10601\n",
      "weighted avg               69.81+-2.83   70.98+-4.99    70.1+-1.37   10601\n",
      "====================================================================================================\n",
      "====================================================================================================\n",
      "Evaluating joint_bert__no_ner_embedder\n",
      "                             precision        recall      f1-score support\n",
      "B-Term                     72.42+-2.28   75.84+-3.28    74.01+-0.9     640\n",
      "I-Term                     70.82+-2.86   71.02+-4.11    70.79+-1.4    1040\n",
      "B-Definition               65.33+-4.23   66.04+-3.23    65.5+-0.94     573\n",
      "I-Definition               70.58+-4.82   71.63+-5.16   70.81+-1.31    8080\n",
      "B-Alias-Term               69.02+-5.11   59.47+-7.31   63.57+-4.68      94\n",
      "I-Alias-Term              52.93+-10.35    41.11+-7.7   45.29+-4.57      72\n",
      "B-Referential-Definition   60.27+-7.98    62.22+-8.2    60.89+-6.7      18\n",
      "I-Referential-Definition   57.12+-7.74   70.83+-9.42   62.53+-5.85      24\n",
      "B-Referential-Term         35.21+-8.08    23.85+-9.9   27.61+-9.04      13\n",
      "I-Referential-Term        40.84+-12.31    50.0+-21.6  43.18+-14.61       5\n",
      "B-Qualifier                35.46+-9.39  46.25+-11.86   39.17+-8.49       8\n",
      "I-Qualifier                40.1+-11.54   55.88+-7.34    45.33+-8.4      34\n",
      "micro avg                  69.96+-4.22   71.05+-4.56   70.27+-1.01   10601\n",
      "macro avg                   55.84+-3.4   57.85+-3.17   55.72+-1.94   10601\n",
      "weighted avg               70.07+-4.17   71.05+-4.56   70.27+-1.02   10601\n",
      "====================================================================================================\n"
     ]
    }
   ],
   "source": [
    "results = []\n",
    "for model_dir in models_path.iterdir():\n",
    "    model_name = model_dir.name.replace('repeated_', '').replace('subtask2_', '')\n",
    "    #if not model_name.startswith('joint_bert'):\n",
    "    #    continue\n",
    "    model_results = []\n",
    "    print('='*100)\n",
    "    print(f'Evaluating {model_name}')\n",
    "    for cwd, _, curr_files in os.walk(model_dir):\n",
    "        if 'model.tar.gz' in curr_files:\n",
    "            pred_dir = Path(cwd, f'{split}_submission')\n",
    "            result = evaluate_subtasks([2],\n",
    "                                       gold_dir=gold_dir,\n",
    "                                       pred_dir=pred_dir,\n",
    "                                       eval_config=config,\n",
    "                                       quiet=True)\n",
    "            model_results.append(result)\n",
    "    print(format_model_results(model_results))\n",
    "    print('='*100)\n",
    "    results.append({'Model': model_name, 'accuracy': 0.0})"
   ]
  },
  {
   "cell_type": "code",
   "execution_count": null,
   "metadata": {},
   "outputs": [],
   "source": []
  }
 ],
 "metadata": {
  "kernelspec": {
   "display_name": "Python 3",
   "language": "python",
   "name": "python3"
  },
  "language_info": {
   "codemirror_mode": {
    "name": "ipython",
    "version": 3
   },
   "file_extension": ".py",
   "mimetype": "text/x-python",
   "name": "python",
   "nbconvert_exporter": "python",
   "pygments_lexer": "ipython3",
   "version": "3.7.4"
  }
 },
 "nbformat": 4,
 "nbformat_minor": 4
}
